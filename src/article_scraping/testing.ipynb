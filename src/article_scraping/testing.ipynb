{
 "cells": [
  {
   "cell_type": "code",
   "execution_count": null,
   "metadata": {},
   "outputs": [],
   "source": [
    "import json\n",
    "import requests\n",
    "\n",
    "from article_scraper import NewsScraper\n",
    "\n",
    "\n",
    "# Load keys\n",
    "with open('../../keys.json') as f:\n",
    "    keys = json.load(f)\n",
    "\n",
    "NEWS_API_KEY = keys[\"NEWSAPI_KEY\"]\n",
    "POST_NAME = keys['POST_USERNAME']\n",
    "POST_PASS = keys[\"POST_PASSWORD\"]\n",
    "\n",
    "# Pull article info from NewsAPI\n",
    "url = 'https://newsapi.org/v2/everything?'\n",
    "url = 'https://eventregistry.org/api/v1/article/getArticles'\n",
    "parameters = {\n",
    "    'q': 'election', # query phrase\n",
    "    'from': '2024-11-15',\n",
    "    'to': '2024-11-21',\n",
    "    'apiKey': NEWS_API_KEY,\n",
    "    'articlesPage':1,\n",
    "    'domains':'foxnews.com'\n",
    "}\n",
    "\n",
    "parameters = {\n",
    "  \"action\": \"getArticles\",\n",
    "  \"keyword\": \"Tesla Inc\",\n",
    "  \"sourceLocationUri\": [\n",
    "    \"http://en.wikipedia.org/wiki/United_States\",\n",
    "    \"http://en.wikipedia.org/wiki/Canada\",\n",
    "    \"http://en.wikipedia.org/wiki/United_Kingdom\"\n",
    "  ],\n",
    "  \"ignoreSourceGroupUri\": \"paywall/paywalled_sources\",\n",
    "  \"articlesPage\": 1,\n",
    "  \"articlesCount\": 100,\n",
    "  \"articlesSortBy\": \"date\",\n",
    "  \"articlesSortByAsc\": False,\n",
    "  \"dataType\": [\n",
    "    \"news\",\n",
    "    \"pr\"\n",
    "  ],\n",
    "  \"forceMaxDataTimeWindow\": 31,\n",
    "  \"resultType\": \"articles\",\n",
    "  \"apiKey\": NEWS_API_KEY\n",
    "}\n",
    "\n",
    "response = requests.get(url, params=parameters)"
   ]
  },
  {
   "cell_type": "code",
   "execution_count": 72,
   "metadata": {},
   "outputs": [
    {
     "data": {
      "text/plain": [
       "<Response [401]>"
      ]
     },
     "execution_count": 72,
     "metadata": {},
     "output_type": "execute_result"
    }
   ],
   "source": [
    "response"
   ]
  },
  {
   "cell_type": "code",
   "execution_count": 71,
   "metadata": {},
   "outputs": [
    {
     "ename": "JSONDecodeError",
     "evalue": "Expecting value: line 1 column 1 (char 0)",
     "output_type": "error",
     "traceback": [
      "\u001b[0;31m---------------------------------------------------------------------------\u001b[0m",
      "\u001b[0;31mJSONDecodeError\u001b[0m                           Traceback (most recent call last)",
      "File \u001b[0;32m~/pyvenv/lib/python3.10/site-packages/requests/models.py:974\u001b[0m, in \u001b[0;36mResponse.json\u001b[0;34m(self, **kwargs)\u001b[0m\n\u001b[1;32m    973\u001b[0m \u001b[38;5;28;01mtry\u001b[39;00m:\n\u001b[0;32m--> 974\u001b[0m     \u001b[38;5;28;01mreturn\u001b[39;00m \u001b[43mcomplexjson\u001b[49m\u001b[38;5;241;43m.\u001b[39;49m\u001b[43mloads\u001b[49m\u001b[43m(\u001b[49m\u001b[38;5;28;43mself\u001b[39;49m\u001b[38;5;241;43m.\u001b[39;49m\u001b[43mtext\u001b[49m\u001b[43m,\u001b[49m\u001b[43m \u001b[49m\u001b[38;5;241;43m*\u001b[39;49m\u001b[38;5;241;43m*\u001b[39;49m\u001b[43mkwargs\u001b[49m\u001b[43m)\u001b[49m\n\u001b[1;32m    975\u001b[0m \u001b[38;5;28;01mexcept\u001b[39;00m JSONDecodeError \u001b[38;5;28;01mas\u001b[39;00m e:\n\u001b[1;32m    976\u001b[0m     \u001b[38;5;66;03m# Catch JSON-related errors and raise as requests.JSONDecodeError\u001b[39;00m\n\u001b[1;32m    977\u001b[0m     \u001b[38;5;66;03m# This aliases json.JSONDecodeError and simplejson.JSONDecodeError\u001b[39;00m\n",
      "File \u001b[0;32m~/pyvenv/lib/python3.10/site-packages/simplejson/__init__.py:514\u001b[0m, in \u001b[0;36mloads\u001b[0;34m(s, encoding, cls, object_hook, parse_float, parse_int, parse_constant, object_pairs_hook, use_decimal, allow_nan, **kw)\u001b[0m\n\u001b[1;32m    510\u001b[0m \u001b[38;5;28;01mif\u001b[39;00m (\u001b[38;5;28mcls\u001b[39m \u001b[38;5;129;01mis\u001b[39;00m \u001b[38;5;28;01mNone\u001b[39;00m \u001b[38;5;129;01mand\u001b[39;00m encoding \u001b[38;5;129;01mis\u001b[39;00m \u001b[38;5;28;01mNone\u001b[39;00m \u001b[38;5;129;01mand\u001b[39;00m object_hook \u001b[38;5;129;01mis\u001b[39;00m \u001b[38;5;28;01mNone\u001b[39;00m \u001b[38;5;129;01mand\u001b[39;00m\n\u001b[1;32m    511\u001b[0m         parse_int \u001b[38;5;129;01mis\u001b[39;00m \u001b[38;5;28;01mNone\u001b[39;00m \u001b[38;5;129;01mand\u001b[39;00m parse_float \u001b[38;5;129;01mis\u001b[39;00m \u001b[38;5;28;01mNone\u001b[39;00m \u001b[38;5;129;01mand\u001b[39;00m\n\u001b[1;32m    512\u001b[0m         parse_constant \u001b[38;5;129;01mis\u001b[39;00m \u001b[38;5;28;01mNone\u001b[39;00m \u001b[38;5;129;01mand\u001b[39;00m object_pairs_hook \u001b[38;5;129;01mis\u001b[39;00m \u001b[38;5;28;01mNone\u001b[39;00m\n\u001b[1;32m    513\u001b[0m         \u001b[38;5;129;01mand\u001b[39;00m \u001b[38;5;129;01mnot\u001b[39;00m use_decimal \u001b[38;5;129;01mand\u001b[39;00m \u001b[38;5;129;01mnot\u001b[39;00m allow_nan \u001b[38;5;129;01mand\u001b[39;00m \u001b[38;5;129;01mnot\u001b[39;00m kw):\n\u001b[0;32m--> 514\u001b[0m     \u001b[38;5;28;01mreturn\u001b[39;00m \u001b[43m_default_decoder\u001b[49m\u001b[38;5;241;43m.\u001b[39;49m\u001b[43mdecode\u001b[49m\u001b[43m(\u001b[49m\u001b[43ms\u001b[49m\u001b[43m)\u001b[49m\n\u001b[1;32m    515\u001b[0m \u001b[38;5;28;01mif\u001b[39;00m \u001b[38;5;28mcls\u001b[39m \u001b[38;5;129;01mis\u001b[39;00m \u001b[38;5;28;01mNone\u001b[39;00m:\n",
      "File \u001b[0;32m~/pyvenv/lib/python3.10/site-packages/simplejson/decoder.py:386\u001b[0m, in \u001b[0;36mJSONDecoder.decode\u001b[0;34m(self, s, _w, _PY3)\u001b[0m\n\u001b[1;32m    385\u001b[0m     s \u001b[38;5;241m=\u001b[39m \u001b[38;5;28mstr\u001b[39m(s, \u001b[38;5;28mself\u001b[39m\u001b[38;5;241m.\u001b[39mencoding)\n\u001b[0;32m--> 386\u001b[0m obj, end \u001b[38;5;241m=\u001b[39m \u001b[38;5;28;43mself\u001b[39;49m\u001b[38;5;241;43m.\u001b[39;49m\u001b[43mraw_decode\u001b[49m\u001b[43m(\u001b[49m\u001b[43ms\u001b[49m\u001b[43m)\u001b[49m\n\u001b[1;32m    387\u001b[0m end \u001b[38;5;241m=\u001b[39m _w(s, end)\u001b[38;5;241m.\u001b[39mend()\n",
      "File \u001b[0;32m~/pyvenv/lib/python3.10/site-packages/simplejson/decoder.py:416\u001b[0m, in \u001b[0;36mJSONDecoder.raw_decode\u001b[0;34m(self, s, idx, _w, _PY3)\u001b[0m\n\u001b[1;32m    415\u001b[0m         idx \u001b[38;5;241m+\u001b[39m\u001b[38;5;241m=\u001b[39m \u001b[38;5;241m3\u001b[39m\n\u001b[0;32m--> 416\u001b[0m \u001b[38;5;28;01mreturn\u001b[39;00m \u001b[38;5;28;43mself\u001b[39;49m\u001b[38;5;241;43m.\u001b[39;49m\u001b[43mscan_once\u001b[49m\u001b[43m(\u001b[49m\u001b[43ms\u001b[49m\u001b[43m,\u001b[49m\u001b[43m \u001b[49m\u001b[43midx\u001b[49m\u001b[38;5;241;43m=\u001b[39;49m\u001b[43m_w\u001b[49m\u001b[43m(\u001b[49m\u001b[43ms\u001b[49m\u001b[43m,\u001b[49m\u001b[43m \u001b[49m\u001b[43midx\u001b[49m\u001b[43m)\u001b[49m\u001b[38;5;241;43m.\u001b[39;49m\u001b[43mend\u001b[49m\u001b[43m(\u001b[49m\u001b[43m)\u001b[49m\u001b[43m)\u001b[49m\n",
      "\u001b[0;31mJSONDecodeError\u001b[0m: Expecting value: line 1 column 1 (char 0)",
      "\nDuring handling of the above exception, another exception occurred:\n",
      "\u001b[0;31mJSONDecodeError\u001b[0m                           Traceback (most recent call last)",
      "Cell \u001b[0;32mIn[71], line 1\u001b[0m\n\u001b[0;32m----> 1\u001b[0m [article[\u001b[38;5;124m'\u001b[39m\u001b[38;5;124murl\u001b[39m\u001b[38;5;124m'\u001b[39m] \u001b[38;5;28;01mfor\u001b[39;00m article \u001b[38;5;129;01min\u001b[39;00m \u001b[43mresponse\u001b[49m\u001b[38;5;241;43m.\u001b[39;49m\u001b[43mjson\u001b[49m\u001b[43m(\u001b[49m\u001b[43m)\u001b[49m[\u001b[38;5;124m'\u001b[39m\u001b[38;5;124marticles\u001b[39m\u001b[38;5;124m'\u001b[39m]]\n",
      "File \u001b[0;32m~/pyvenv/lib/python3.10/site-packages/requests/models.py:978\u001b[0m, in \u001b[0;36mResponse.json\u001b[0;34m(self, **kwargs)\u001b[0m\n\u001b[1;32m    974\u001b[0m     \u001b[38;5;28;01mreturn\u001b[39;00m complexjson\u001b[38;5;241m.\u001b[39mloads(\u001b[38;5;28mself\u001b[39m\u001b[38;5;241m.\u001b[39mtext, \u001b[38;5;241m*\u001b[39m\u001b[38;5;241m*\u001b[39mkwargs)\n\u001b[1;32m    975\u001b[0m \u001b[38;5;28;01mexcept\u001b[39;00m JSONDecodeError \u001b[38;5;28;01mas\u001b[39;00m e:\n\u001b[1;32m    976\u001b[0m     \u001b[38;5;66;03m# Catch JSON-related errors and raise as requests.JSONDecodeError\u001b[39;00m\n\u001b[1;32m    977\u001b[0m     \u001b[38;5;66;03m# This aliases json.JSONDecodeError and simplejson.JSONDecodeError\u001b[39;00m\n\u001b[0;32m--> 978\u001b[0m     \u001b[38;5;28;01mraise\u001b[39;00m RequestsJSONDecodeError(e\u001b[38;5;241m.\u001b[39mmsg, e\u001b[38;5;241m.\u001b[39mdoc, e\u001b[38;5;241m.\u001b[39mpos)\n",
      "\u001b[0;31mJSONDecodeError\u001b[0m: Expecting value: line 1 column 1 (char 0)"
     ]
    }
   ],
   "source": [
    "[article['url'] for article in response.json()['articles']]"
   ]
  },
  {
   "cell_type": "code",
   "execution_count": 56,
   "metadata": {},
   "outputs": [
    {
     "data": {
      "text/plain": [
       "['https://www.foxnews.com/politics/pennsylvania-democrats-openly-admit-counting-illegal-ballots-mccormick-casey-race',\n",
       " 'https://www.foxnews.com/politics/minnesota-election-judge-faces-felony-charges-over-accepting-unregistered-votes',\n",
       " 'https://www.foxnews.com/media/joe-rogan-says-many-entertainment-industry-had-privately-thanked-me-endorsing-trump',\n",
       " 'https://www.foxnews.com/lifestyle/nine-countries-offering-ancestry-based-citizenship-americans-looking-leave-us-after-election',\n",
       " 'https://www.foxnews.com/media/mom-living-alopecia-reacts-liberal-women-shaving-heads-unattractive-donald-trumps-win',\n",
       " 'https://www.foxnews.com/media/veteran-pollster-announces-shes-moving-to-other-ventures-after-backlash-bombshell-iowa-poll',\n",
       " 'https://www.foxnews.com/politics/ranked-choice-voting-dealt-blow-voters-rejected-numerous-states',\n",
       " 'https://www.foxnews.com/media/democrats-privately-gripe-about-pelosis-damaging-post-election-comments-she-needs-take-seat',\n",
       " 'https://www.foxnews.com/media/adam-schiff-insists-his-russia-collusion-claim-wasnt-overstatement',\n",
       " 'https://www.foxnews.com/lifestyle/bible-believing-christians-key-trumps-victory-american-faith-leader',\n",
       " 'https://www.foxnews.com/politics/harris-campaign-costs-star-studded-events-election-eve-ballooned-over-10m-report',\n",
       " 'https://www.foxnews.com/media/did-taylor-swifts-endorsement-kamala-harris-move-needle-2024-election',\n",
       " 'https://www.foxnews.com/politics/moderate-democrat-marine-veteran-wins-re-election-trump-leaning-congressional-district',\n",
       " 'https://www.foxnews.com/media/bill-maher-tries-explain-baffled-william-shatner-why-harris-lost-election',\n",
       " 'https://www.foxnews.com/politics/rahm-emanuel-mulling-bid-steer-dnc-disastrous-election-night-dems',\n",
       " 'https://www.foxnews.com/media/msnbc-continues-lose-viewers-since-election-day-posts-lowest-rated-wednesday-since-2016',\n",
       " 'https://www.foxnews.com/politics/former-governor-presidential-candidate-becomes-first-launch-bid-chair-democratic-party',\n",
       " 'https://www.foxnews.com/media/maher-blasts-left-doubling-down-what-f-ed-them-election-take-one-week-ask-what-you-did-wrong',\n",
       " 'https://www.foxnews.com/sports/ufcs-dana-white-why-fighters-gravitate-toward-trump-were-all-tired',\n",
       " 'https://www.foxnews.com/politics/pennsylvania-supreme-court-upholds-exclusion-certain-mail-in-ballots-victory-gop',\n",
       " 'https://www.foxnews.com/media/jen-psaki-says-democrats-lost-wilderness-without-clear-leader-after-trumps-victory',\n",
       " 'https://www.foxnews.com/sports/jake-pauls-cornerman-goes-viral-make-america-healthy-again-hat',\n",
       " 'https://www.foxnews.com/politics/democrat-wins-house-race-retain-seat-californias-21st-district',\n",
       " 'https://www.foxnews.com/politics/sen-sanders-says-looking-forward-trump-fulfilling-promise-credit-card-interest-rates',\n",
       " 'https://www.foxnews.com/media/cnn-host-says-liberal-medias-constant-browbeating-about-trump-top-reason-his-big-win',\n",
       " 'https://www.foxnews.com/opinion/joe-manchin-american-people-picked-trump-now-time-deliver-solutions-everyone',\n",
       " 'https://www.foxnews.com/media/rogan-jokes-biden-voted-trump-hes-never-been-happier-his-life-harris-lost',\n",
       " 'https://www.foxnews.com/politics/mccormick-casey-recount-top-1m-gop-slams-blue-counties-defying-high-court',\n",
       " 'https://www.foxnews.com/media/scientific-american-editor-in-chief-resigns-after-calling-trump-voters-fascists',\n",
       " 'https://www.foxnews.com/politics/lee-threatens-not-seat-casey-senate-he-continues-refusal-concede',\n",
       " 'https://www.foxnews.com/entertainment/eva-longoria-says-trumps-win-not-why-she-left-us-despite-sharing-anxieties-over-his-victory',\n",
       " 'https://www.foxnews.com/opinion/dnc-vice-chair-heres-how-democrats-reconnect-voters',\n",
       " 'https://www.foxnews.com/politics/trump-campaign-official-says-pennsylvania-dems-face-jail-time-over-ballot-recount',\n",
       " 'https://www.foxnews.com/politics/size-republican-house-majority-decided-7-remaining-uncalled-races',\n",
       " 'https://www.foxnews.com/media/historic-catholic-vote-delivered-election-president-trump-says-catholicvote-president',\n",
       " 'https://www.foxnews.com/sports/ufcs-dana-white-throws-haymakers-traditional-media-politicians-nobody-trusts-them',\n",
       " 'https://www.foxnews.com/politics/republicans-file-12-pennsylvania-lawsuits-aggressive-push-end-recount',\n",
       " 'https://www.foxnews.com/politics/blue-state-ceo-who-put-up-100-ft-pro-trump-sign-spend-2-6-million-campaign-congress',\n",
       " 'https://www.foxnews.com/politics/one-time-gop-rising-star-reveals-work-with-trump-admin-after-victory-key-race',\n",
       " 'https://www.foxnews.com/politics/republicans-appears-likely-flip-majority-latino-california-state-assembly-seat',\n",
       " 'https://www.foxnews.com/media/bill-maher-says-my-heads-not-exploding-over-trump-picking-rfk-jr-hhs-we-do-need-shaking-up',\n",
       " 'https://www.foxnews.com/politics/rubio-sets-timetable-naming-rubio-senate-successor-amid-calls-trump-fill-seat',\n",
       " 'https://www.foxnews.com/sports/dana-white-addresses-rumors-trump-make-appearance-ufc-309-hes-big-fan',\n",
       " 'https://www.foxnews.com/media/after-confidently-predicting-trump-toast-michael-moore-lashes-out-americans-not-good-people',\n",
       " 'https://www.foxnews.com/politics/youngest-house-republican-elect-reveals-how-gop-won-back-americas-youth',\n",
       " 'https://www.foxnews.com/politics/dems-gaetz-outrage-follows-long-history-questionable-doj-acts-under-biden',\n",
       " 'https://www.foxnews.com/sports/trump-support-dominates-weekend-sports-athletes-perform-president-elects-dance-moves',\n",
       " 'https://www.foxnews.com/politics/new-jersey-rep-josh-gottheimer-says-we-need-stand-up-trump-video-announcing-run-governor',\n",
       " 'https://www.foxnews.com/politics/dearborn-group-urges-trump-follow-through-promises-end-conflict-gaza',\n",
       " 'https://www.foxnews.com/politics/absolute-lawlessness-gop-blasts-pa-dems-recount-effort-casey-senate-loss',\n",
       " 'https://www.foxnews.com/media/kamala-harris-interviewers-received-large-campaign-donations-groups-ahead-sit-downs',\n",
       " 'https://www.foxnews.com/media/democrat-who-spoke-out-against-trans-athletes-womens-sports-under-attack-own-party',\n",
       " 'https://www.foxnews.com/media/fox-news-medias-all-american-christmas-tree-lighting-set-friday-the-five',\n",
       " 'https://www.foxnews.com/sports/bill-maher-lambasts-liberals-defending-trans-inclusion-womens-sports-defends-seth-moulton',\n",
       " 'https://www.foxnews.com/media/family-ties-star-justine-bateman-says-trumps-election-lifted-suffocating-cloud-free-speech',\n",
       " 'https://www.foxnews.com/sports/donald-trump-arrives-ufc-309-msg-crowd-roars-president-elect-weeks-after-historic-rally',\n",
       " 'https://www.foxnews.com/politics/narrow-margin-trump-taps-house-republicans-second-administration',\n",
       " 'https://www.foxnews.com/media/sean-hannity-donald-trump-has-clear-mandate-fix-whats-broken',\n",
       " 'https://www.foxnews.com/media/laura-ingraham-effort-discredit-rfk-jr-nomination-underway-since-endorsed-trump',\n",
       " 'https://www.foxnews.com/media/los-angeles-times-owner-vows-shake-things-up-make-historic-paper-place-where-all-voices-heard',\n",
       " 'https://www.foxnews.com/politics/former-jill-biden-spox-rips-dems-for-vilifying-dei-critics-white-supremacists',\n",
       " 'https://www.foxnews.com/media/democrats-consider-rebrand-after-trump-win-want-avoid-freak-show-party-label-report',\n",
       " 'https://www.foxnews.com/sports/jon-bones-jones-performs-donald-trumps-famous-dance-gives-title-belt-president-elect-after-tko-victory',\n",
       " 'https://www.foxnews.com/sports/democrats-planning-replace-seth-moulton-after-speaking-out-against-trans-athletes',\n",
       " 'https://www.foxnews.com/politics/virginia-attorney-general-expects-a-lot-more-common-sense-during-trump-presidency',\n",
       " 'https://www.foxnews.com/world/protesters-storm-putin-backed-parliament-georgia-breakaway-region',\n",
       " 'https://www.foxnews.com/media/snow-white-star-rachel-zegler-apologizes-profane-post-wishing-trump-supporters-have-no-peace',\n",
       " 'https://www.foxnews.com/politics/former-espn-personality-sage-steele-denies-trump-press-secretary-rumors',\n",
       " 'https://www.foxnews.com/politics/trump-taps-fcc-member-brendan-carr-lead-agency-chairman-warrior-free-speech',\n",
       " 'https://www.foxnews.com/politics/trump-flanked-top-allies-cabinet-picks-ufc-309-usa-usa',\n",
       " 'https://www.foxnews.com/politics/arizona-state-senate-candidate-john-mclean-killed-suspected-dui-crash-true-public-servant',\n",
       " 'https://www.foxnews.com/politics/trump-lawyer-william-owen-scharf-picked-crucial-white-house-assistant-role',\n",
       " 'https://www.foxnews.com/politics/transgender-women-banned-from-capitol-hill-female-bathrooms-under-new-house-gop-proposal',\n",
       " 'https://www.foxnews.com/politics/homan-fires-back-after-congressional-hispanic-caucus-chair-says-group-oppose-mass-deportations-game-on',\n",
       " 'https://www.foxnews.com/opinion/nancy-pelosi-finished-no-one-deserves-more-blame-dems-1b-electoral-collapse',\n",
       " 'https://www.foxnews.com/politics/debt-ridden-harris-campaign-spent-2-6-million-private-flights-staff-october-doc',\n",
       " 'https://www.foxnews.com/media/washington-post-editorial-board-blasts-pennsylvania-democrats-scathing-piece-recount-efforts',\n",
       " 'https://www.foxnews.com/politics/new-candidate-emerges-crowded-field-as-possible-replacement-vances-ohio-senate-seat',\n",
       " 'https://www.foxnews.com/media/morning-joe-co-hosts-hold-face-to-face-meeting-trump-first-time-seven-years',\n",
       " 'https://www.foxnews.com/world/mexican-president-might-changing-view-us-trump-win-sends-warning-ruling-socialists',\n",
       " 'https://www.foxnews.com/sports/chiefs-harrison-butkers-injury-sparks-feminist-celebrations-trump-cabinet-conspiracies-social-media',\n",
       " 'https://www.foxnews.com/sports/donald-trump-heads-ufc-309-expected-receive-raucous-cheers-after-election-win',\n",
       " 'https://www.foxnews.com/politics/sylvester-stallone-calls-president-elect-trump-second-george-washington-during-afpi-gala-introduction',\n",
       " 'https://www.foxnews.com/politics/mike-rogers-consideration-fbi-chief-after-meeting-mar-a-lago-trump-transition-team-sources-say',\n",
       " 'https://www.foxnews.com/politics/biden-awkwardly-stands-apec-photo-chinas-xi-jinping-front-center',\n",
       " 'https://www.foxnews.com/politics/size-slim-republican-house-majority-hangs-5-uncalled-races',\n",
       " 'https://www.foxnews.com/politics/oprah-town-hall-cost-harris-campaign-far-more-than-initially-claimed-report',\n",
       " 'https://www.foxnews.com/sports/trump-thanks-dana-white-ufc-fans-raucous-welcome-msg',\n",
       " 'https://www.foxnews.com/opinion/greg-gutfeld-obsessing-over-your-identity-feeds-your-ego-starves-you-precious-connections',\n",
       " 'https://www.foxnews.com/media/patricia-heaton-calls-christians-fight-against-antisemitism-october-7-denialism-awards-show',\n",
       " 'https://www.foxnews.com/sports/ex-view-host-who-bashed-trump-commentating-netflix-fight-between-trump-supports-mike-tyson-jake-paul',\n",
       " 'https://www.foxnews.com/politics/wasserman-schultz-sparks-backlash-claiming-tulsi-gabbard-russian-asset',\n",
       " 'https://www.foxnews.com/politics/rand-paul-wants-abolish-agency-established-under-trump-calls-prospect-unlikely',\n",
       " 'https://www.foxnews.com/politics/lara-trump-says-shed-love-consider-filling-rubios-senate-seat-asked-desantis',\n",
       " 'https://www.foxnews.com/politics/ben-carson-dispels-rumors-about-joining-white-house-specific-role-says-he-meet-trump-soon',\n",
       " 'https://www.foxnews.com/sports/ex-mlb-star-jonathan-lucroy-calls-voter-id-requirement-elections',\n",
       " 'https://www.foxnews.com/politics/republicans-aim-expand-slim-house-majority-final-races-near-finish-line',\n",
       " 'https://www.foxnews.com/politics/hovde-concedes-12-days-after-wisconsin-senate-race-call-blames-dem-recruited-3rd-party-candidate',\n",
       " 'https://www.foxnews.com/us/trump-turns-to-allies-as-he-aims-to-flip-nations-capital-upside-down',\n",
       " 'https://www.foxnews.com/politics/javier-milei-first-world-leader-meet-president-elect-trump-greatest-political-comeback-history']"
      ]
     },
     "execution_count": 56,
     "metadata": {},
     "output_type": "execute_result"
    }
   ],
   "source": [
    "[article['url'] for article in response.json()['articles']]"
   ]
  },
  {
   "cell_type": "code",
   "execution_count": null,
   "metadata": {},
   "outputs": [],
   "source": []
  }
 ],
 "metadata": {
  "kernelspec": {
   "display_name": "pyvenv",
   "language": "python",
   "name": "python3"
  },
  "language_info": {
   "codemirror_mode": {
    "name": "ipython",
    "version": 3
   },
   "file_extension": ".py",
   "mimetype": "text/x-python",
   "name": "python",
   "nbconvert_exporter": "python",
   "pygments_lexer": "ipython3",
   "version": "3.10.3"
  }
 },
 "nbformat": 4,
 "nbformat_minor": 2
}
