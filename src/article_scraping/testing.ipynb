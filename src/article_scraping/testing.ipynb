{
 "cells": [
  {
   "cell_type": "code",
   "execution_count": 4,
   "metadata": {},
   "outputs": [],
   "source": [
    "import pandas as pd\n",
    "from bs4 import BeautifulSoup\n",
    "\n",
    "\n",
    "from article_collection import ArticleCollector, ArticleScraper"
   ]
  },
  {
   "cell_type": "code",
   "execution_count": 26,
   "metadata": {},
   "outputs": [
    {
     "name": "stdout",
     "output_type": "stream",
     "text": [
      "[<span class=\"wpds-c-jKQbzV font-xxxs font-light font--meta-text lh-sm gray-dark dot-xxs-gray-dark\" data-testid=\"timestamp\">November 20, 2024</span>]\n",
      "[<span class=\"wpds-c-jKQbzV font-xxxs font-light font--meta-text lh-sm gray-dark dot-xxs-gray-dark\" data-testid=\"timestamp\">November 19, 2024</span>]\n",
      "[<span class=\"wpds-c-jKQbzV font-xxxs font-light font--meta-text lh-sm gray-dark dot-xxs-gray-dark\" data-testid=\"timestamp\">November 18, 2024</span>]\n",
      "[<span class=\"wpds-c-jKQbzV font-xxxs font-light font--meta-text lh-sm gray-dark dot-xxs-gray-dark\" data-testid=\"timestamp\">November 18, 2024</span>]\n"
     ]
    }
   ],
   "source": [
    "for n in range(len(stories)):\n",
    "    try:\n",
    "        stories[n].div.div.find_all('span',{'data-testid':'timestamp'})[0].text\n",
    "    except:\n",
    "        print(stories[n].find_all('span',{'data-testid':'timestamp'}))"
   ]
  },
  {
   "cell_type": "code",
   "execution_count": null,
   "metadata": {},
   "outputs": [],
   "source": [
    "with open('data/wpost.html', 'r') as fpath:\n",
    "    html = fpath.read()\n",
    "\n",
    "soup = BeautifulSoup(html, 'html.parser')\n",
    "\n",
    "stories = soup.find_all('div', {'data-feature-id':'homepage/story'})\n",
    "\n",
    "urls = [stories[n].div.div.a['href'] + '.com' for n in range(len(stories))]\n",
    "dates = [stories[n].find_all('span',{'data-testid':'timestamp'})[0].text for n in range(len(stories))]\n",
    "descriptions = [None for n in range(len(stories))]\n",
    "sources = ['Washington Post' for n in range(len(stories))]\n",
    "titles = [stories[n].find_all('h3', {'data-qa':'card-title'})[0].text for n in range(len(stories))]\n"
   ]
  },
  {
   "cell_type": "code",
   "execution_count": 32,
   "metadata": {},
   "outputs": [
    {
     "data": {
      "text/plain": [
       "584"
      ]
     },
     "execution_count": 32,
     "metadata": {},
     "output_type": "execute_result"
    }
   ],
   "source": [
    "len(titles)"
   ]
  },
  {
   "cell_type": "code",
   "execution_count": 2,
   "metadata": {},
   "outputs": [
    {
     "name": "stdout",
     "output_type": "stream",
     "text": [
      "0\n",
      "1\n"
     ]
    },
    {
     "ename": "ElementClickInterceptedException",
     "evalue": "Message: element click intercepted: Element <iframe id=\"google_ads_iframe_/701/wpni.politics/front_0\" name=\"google_ads_iframe_/701/wpni.politics/front_0\" title=\"3rd party ad content\" width=\"0\" height=\"250\" scrolling=\"no\" marginwidth=\"0\" marginheight=\"0\" frameborder=\"0\" aria-label=\"Advertisement\" tabindex=\"0\" allow=\"private-state-token-redemption;attribution-reporting\" sandbox=\"allow-forms allow-pointer-lock allow-popups allow-popups-to-escape-sandbox allow-same-origin allow-scripts\" data-load-complete=\"true\" data-google-container-id=\"1\" style=\"border: 0px; vertical-align: bottom; min-width: 100%;\" data-integralas-id-4865ac4c-1a14-ee96-7192-a9c59fbdc809=\"\"></iframe> is not clickable at point (600, 200). Other element would receive the click: <h1 class=\"font-lg mt-sm pt-xs pb-xs center font--headline offblack\" id=\"HEADER\" style=\"-webkit-font-smoothing: antialiased; word-break: break-word;\">...</h1>\n  (Session info: chrome=131.0.6778.86)\nStacktrace:\n0   chromedriver                        0x00000001054a3ac4 cxxbridge1$str$ptr + 3651580\n1   chromedriver                        0x000000010549c314 cxxbridge1$str$ptr + 3620940\n2   chromedriver                        0x0000000104f044b4 cxxbridge1$string$len + 89224\n3   chromedriver                        0x0000000104f4e12c cxxbridge1$string$len + 391424\n4   chromedriver                        0x0000000104f4c77c cxxbridge1$string$len + 384848\n5   chromedriver                        0x0000000104f4a6c0 cxxbridge1$string$len + 376468\n6   chromedriver                        0x0000000104f49af8 cxxbridge1$string$len + 373452\n7   chromedriver                        0x0000000104f3efbc cxxbridge1$string$len + 329616\n8   chromedriver                        0x0000000104f3ea10 cxxbridge1$string$len + 328164\n9   chromedriver                        0x0000000104f820fc cxxbridge1$string$len + 604368\n10  chromedriver                        0x0000000104f3d0b0 cxxbridge1$string$len + 321668\n11  chromedriver                        0x0000000104f3dd00 cxxbridge1$string$len + 324820\n12  chromedriver                        0x000000010546ee08 cxxbridge1$str$ptr + 3435328\n13  chromedriver                        0x0000000105472120 cxxbridge1$str$ptr + 3448408\n14  chromedriver                        0x000000010545617c cxxbridge1$str$ptr + 3333812\n15  chromedriver                        0x00000001054729e0 cxxbridge1$str$ptr + 3450648\n16  chromedriver                        0x0000000105447988 cxxbridge1$str$ptr + 3274432\n17  chromedriver                        0x000000010548d0f4 cxxbridge1$str$ptr + 3558956\n18  chromedriver                        0x000000010548d270 cxxbridge1$str$ptr + 3559336\n19  chromedriver                        0x000000010549bf88 cxxbridge1$str$ptr + 3620032\n20  libsystem_pthread.dylib             0x0000000180d5af94 _pthread_start + 136\n21  libsystem_pthread.dylib             0x0000000180d55d34 thread_start + 8\n",
     "output_type": "error",
     "traceback": [
      "\u001b[0;31m---------------------------------------------------------------------------\u001b[0m",
      "\u001b[0;31mElementClickInterceptedException\u001b[0m          Traceback (most recent call last)",
      "Cell \u001b[0;32mIn[2], line 3\u001b[0m\n\u001b[1;32m      1\u001b[0m collector \u001b[38;5;241m=\u001b[39m ArticleCollector(API_KEY\u001b[38;5;241m=\u001b[39m\u001b[38;5;124m'\u001b[39m\u001b[38;5;124mb0ad6680b01344f38334d267c9bf1da2\u001b[39m\u001b[38;5;124m'\u001b[39m)\n\u001b[0;32m----> 3\u001b[0m \u001b[43mcollector\u001b[49m\u001b[38;5;241;43m.\u001b[39;49m\u001b[43mscrape_wpost\u001b[49m\u001b[43m(\u001b[49m\u001b[43m)\u001b[49m\n",
      "File \u001b[0;32m~/Desktop/DSAN/DSAN5400/Final-Project/news_recommender/src/article_scraping/article_collection.py:135\u001b[0m, in \u001b[0;36mArticleCollector.scrape_wpost\u001b[0;34m(self)\u001b[0m\n\u001b[1;32m    130\u001b[0m     \u001b[38;5;28mprint\u001b[39m(i)\n\u001b[1;32m    131\u001b[0m     \u001b[38;5;28;01mNone\u001b[39;00m\n\u001b[1;32m    133\u001b[0m \u001b[43mWebDriverWait\u001b[49m\u001b[43m(\u001b[49m\u001b[43mdriver\u001b[49m\u001b[43m,\u001b[49m\u001b[43m \u001b[49m\u001b[38;5;241;43m5\u001b[39;49m\u001b[43m)\u001b[49m\u001b[38;5;241;43m.\u001b[39;49m\u001b[43muntil\u001b[49m\u001b[43m(\u001b[49m\n\u001b[1;32m    134\u001b[0m \u001b[43m    \u001b[49m\u001b[43mEC\u001b[49m\u001b[38;5;241;43m.\u001b[39;49m\u001b[43melement_to_be_clickable\u001b[49m\u001b[43m(\u001b[49m\u001b[43m(\u001b[49m\u001b[43mBy\u001b[49m\u001b[38;5;241;43m.\u001b[39;49m\u001b[43mXPATH\u001b[49m\u001b[43m,\u001b[49m\u001b[43m \u001b[49m\u001b[38;5;124;43m\"\u001b[39;49m\u001b[38;5;124;43m//*[@tabindex=0]\u001b[39;49m\u001b[38;5;124;43m\"\u001b[39;49m\u001b[43m)\u001b[49m\u001b[43m)\u001b[49m\n\u001b[0;32m--> 135\u001b[0m \u001b[43m\u001b[49m\u001b[43m)\u001b[49m\u001b[38;5;241;43m.\u001b[39;49m\u001b[43mclick\u001b[49m\u001b[43m(\u001b[49m\u001b[43m)\u001b[49m\n",
      "File \u001b[0;32m~/pyvenv/lib/python3.10/site-packages/selenium/webdriver/remote/webelement.py:94\u001b[0m, in \u001b[0;36mWebElement.click\u001b[0;34m(self)\u001b[0m\n\u001b[1;32m     92\u001b[0m \u001b[38;5;28;01mdef\u001b[39;00m \u001b[38;5;21mclick\u001b[39m(\u001b[38;5;28mself\u001b[39m) \u001b[38;5;241m-\u001b[39m\u001b[38;5;241m>\u001b[39m \u001b[38;5;28;01mNone\u001b[39;00m:\n\u001b[1;32m     93\u001b[0m \u001b[38;5;250m    \u001b[39m\u001b[38;5;124;03m\"\"\"Clicks the element.\"\"\"\u001b[39;00m\n\u001b[0;32m---> 94\u001b[0m     \u001b[38;5;28;43mself\u001b[39;49m\u001b[38;5;241;43m.\u001b[39;49m\u001b[43m_execute\u001b[49m\u001b[43m(\u001b[49m\u001b[43mCommand\u001b[49m\u001b[38;5;241;43m.\u001b[39;49m\u001b[43mCLICK_ELEMENT\u001b[49m\u001b[43m)\u001b[49m\n",
      "File \u001b[0;32m~/pyvenv/lib/python3.10/site-packages/selenium/webdriver/remote/webelement.py:395\u001b[0m, in \u001b[0;36mWebElement._execute\u001b[0;34m(self, command, params)\u001b[0m\n\u001b[1;32m    393\u001b[0m     params \u001b[38;5;241m=\u001b[39m {}\n\u001b[1;32m    394\u001b[0m params[\u001b[38;5;124m\"\u001b[39m\u001b[38;5;124mid\u001b[39m\u001b[38;5;124m\"\u001b[39m] \u001b[38;5;241m=\u001b[39m \u001b[38;5;28mself\u001b[39m\u001b[38;5;241m.\u001b[39m_id\n\u001b[0;32m--> 395\u001b[0m \u001b[38;5;28;01mreturn\u001b[39;00m \u001b[38;5;28;43mself\u001b[39;49m\u001b[38;5;241;43m.\u001b[39;49m\u001b[43m_parent\u001b[49m\u001b[38;5;241;43m.\u001b[39;49m\u001b[43mexecute\u001b[49m\u001b[43m(\u001b[49m\u001b[43mcommand\u001b[49m\u001b[43m,\u001b[49m\u001b[43m \u001b[49m\u001b[43mparams\u001b[49m\u001b[43m)\u001b[49m\n",
      "File \u001b[0;32m~/pyvenv/lib/python3.10/site-packages/selenium/webdriver/remote/webdriver.py:347\u001b[0m, in \u001b[0;36mWebDriver.execute\u001b[0;34m(self, driver_command, params)\u001b[0m\n\u001b[1;32m    345\u001b[0m response \u001b[38;5;241m=\u001b[39m \u001b[38;5;28mself\u001b[39m\u001b[38;5;241m.\u001b[39mcommand_executor\u001b[38;5;241m.\u001b[39mexecute(driver_command, params)\n\u001b[1;32m    346\u001b[0m \u001b[38;5;28;01mif\u001b[39;00m response:\n\u001b[0;32m--> 347\u001b[0m     \u001b[38;5;28;43mself\u001b[39;49m\u001b[38;5;241;43m.\u001b[39;49m\u001b[43merror_handler\u001b[49m\u001b[38;5;241;43m.\u001b[39;49m\u001b[43mcheck_response\u001b[49m\u001b[43m(\u001b[49m\u001b[43mresponse\u001b[49m\u001b[43m)\u001b[49m\n\u001b[1;32m    348\u001b[0m     response[\u001b[38;5;124m\"\u001b[39m\u001b[38;5;124mvalue\u001b[39m\u001b[38;5;124m\"\u001b[39m] \u001b[38;5;241m=\u001b[39m \u001b[38;5;28mself\u001b[39m\u001b[38;5;241m.\u001b[39m_unwrap_value(response\u001b[38;5;241m.\u001b[39mget(\u001b[38;5;124m\"\u001b[39m\u001b[38;5;124mvalue\u001b[39m\u001b[38;5;124m\"\u001b[39m, \u001b[38;5;28;01mNone\u001b[39;00m))\n\u001b[1;32m    349\u001b[0m     \u001b[38;5;28;01mreturn\u001b[39;00m response\n",
      "File \u001b[0;32m~/pyvenv/lib/python3.10/site-packages/selenium/webdriver/remote/errorhandler.py:229\u001b[0m, in \u001b[0;36mErrorHandler.check_response\u001b[0;34m(self, response)\u001b[0m\n\u001b[1;32m    227\u001b[0m         alert_text \u001b[38;5;241m=\u001b[39m value[\u001b[38;5;124m\"\u001b[39m\u001b[38;5;124malert\u001b[39m\u001b[38;5;124m\"\u001b[39m]\u001b[38;5;241m.\u001b[39mget(\u001b[38;5;124m\"\u001b[39m\u001b[38;5;124mtext\u001b[39m\u001b[38;5;124m\"\u001b[39m)\n\u001b[1;32m    228\u001b[0m     \u001b[38;5;28;01mraise\u001b[39;00m exception_class(message, screen, stacktrace, alert_text)  \u001b[38;5;66;03m# type: ignore[call-arg]  # mypy is not smart enough here\u001b[39;00m\n\u001b[0;32m--> 229\u001b[0m \u001b[38;5;28;01mraise\u001b[39;00m exception_class(message, screen, stacktrace)\n",
      "\u001b[0;31mElementClickInterceptedException\u001b[0m: Message: element click intercepted: Element <iframe id=\"google_ads_iframe_/701/wpni.politics/front_0\" name=\"google_ads_iframe_/701/wpni.politics/front_0\" title=\"3rd party ad content\" width=\"0\" height=\"250\" scrolling=\"no\" marginwidth=\"0\" marginheight=\"0\" frameborder=\"0\" aria-label=\"Advertisement\" tabindex=\"0\" allow=\"private-state-token-redemption;attribution-reporting\" sandbox=\"allow-forms allow-pointer-lock allow-popups allow-popups-to-escape-sandbox allow-same-origin allow-scripts\" data-load-complete=\"true\" data-google-container-id=\"1\" style=\"border: 0px; vertical-align: bottom; min-width: 100%;\" data-integralas-id-4865ac4c-1a14-ee96-7192-a9c59fbdc809=\"\"></iframe> is not clickable at point (600, 200). Other element would receive the click: <h1 class=\"font-lg mt-sm pt-xs pb-xs center font--headline offblack\" id=\"HEADER\" style=\"-webkit-font-smoothing: antialiased; word-break: break-word;\">...</h1>\n  (Session info: chrome=131.0.6778.86)\nStacktrace:\n0   chromedriver                        0x00000001054a3ac4 cxxbridge1$str$ptr + 3651580\n1   chromedriver                        0x000000010549c314 cxxbridge1$str$ptr + 3620940\n2   chromedriver                        0x0000000104f044b4 cxxbridge1$string$len + 89224\n3   chromedriver                        0x0000000104f4e12c cxxbridge1$string$len + 391424\n4   chromedriver                        0x0000000104f4c77c cxxbridge1$string$len + 384848\n5   chromedriver                        0x0000000104f4a6c0 cxxbridge1$string$len + 376468\n6   chromedriver                        0x0000000104f49af8 cxxbridge1$string$len + 373452\n7   chromedriver                        0x0000000104f3efbc cxxbridge1$string$len + 329616\n8   chromedriver                        0x0000000104f3ea10 cxxbridge1$string$len + 328164\n9   chromedriver                        0x0000000104f820fc cxxbridge1$string$len + 604368\n10  chromedriver                        0x0000000104f3d0b0 cxxbridge1$string$len + 321668\n11  chromedriver                        0x0000000104f3dd00 cxxbridge1$string$len + 324820\n12  chromedriver                        0x000000010546ee08 cxxbridge1$str$ptr + 3435328\n13  chromedriver                        0x0000000105472120 cxxbridge1$str$ptr + 3448408\n14  chromedriver                        0x000000010545617c cxxbridge1$str$ptr + 3333812\n15  chromedriver                        0x00000001054729e0 cxxbridge1$str$ptr + 3450648\n16  chromedriver                        0x0000000105447988 cxxbridge1$str$ptr + 3274432\n17  chromedriver                        0x000000010548d0f4 cxxbridge1$str$ptr + 3558956\n18  chromedriver                        0x000000010548d270 cxxbridge1$str$ptr + 3559336\n19  chromedriver                        0x000000010549bf88 cxxbridge1$str$ptr + 3620032\n20  libsystem_pthread.dylib             0x0000000180d5af94 _pthread_start + 136\n21  libsystem_pthread.dylib             0x0000000180d55d34 thread_start + 8\n"
     ]
    }
   ],
   "source": [
    "collector = ArticleCollector(API_KEY='b0ad6680b01344f38334d267c9bf1da2')\n",
    "\n",
    "collector.scrape_wpost()"
   ]
  },
  {
   "cell_type": "code",
   "execution_count": null,
   "metadata": {},
   "outputs": [],
   "source": []
  }
 ],
 "metadata": {
  "kernelspec": {
   "display_name": "pyvenv",
   "language": "python",
   "name": "python3"
  },
  "language_info": {
   "codemirror_mode": {
    "name": "ipython",
    "version": 3
   },
   "file_extension": ".py",
   "mimetype": "text/x-python",
   "name": "python",
   "nbconvert_exporter": "python",
   "pygments_lexer": "ipython3",
   "version": "3.10.3"
  }
 },
 "nbformat": 4,
 "nbformat_minor": 2
}
