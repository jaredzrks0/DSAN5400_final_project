{
  "nbformat": 4,
  "nbformat_minor": 0,
  "metadata": {
    "colab": {
      "provenance": [],
      "gpuType": "T4",
      "include_colab_link": true
    },
    "kernelspec": {
      "name": "python3",
      "display_name": "Python 3"
    },
    "language_info": {
      "name": "python"
    },
    "accelerator": "GPU"
  },
  "cells": [
    {
      "cell_type": "markdown",
      "metadata": {
        "id": "view-in-github",
        "colab_type": "text"
      },
      "source": [
        "<a href=\"https://colab.research.google.com/github/jaredzrks0/DSAN5400_final_project/blob/main/DSAN_5400_Final_News_Recommender_Training.ipynb\" target=\"_parent\"><img src=\"https://colab.research.google.com/assets/colab-badge.svg\" alt=\"Open In Colab\"/></a>"
      ]
    },
    {
      "cell_type": "code",
      "source": [
        "import os"
      ],
      "metadata": {
        "id": "ilhaXrcxiNFY"
      },
      "execution_count": 1,
      "outputs": []
    },
    {
      "cell_type": "code",
      "execution_count": 2,
      "metadata": {
        "id": "3ecAxG4-Wifu",
        "colab": {
          "base_uri": "https://localhost:8080/"
        },
        "outputId": "53a03984-5386-44c3-ad42-3e39be3806da"
      },
      "outputs": [
        {
          "output_type": "stream",
          "name": "stdout",
          "text": [
            "fatal: cannot change to 'ColBERT/': No such file or directory\n"
          ]
        }
      ],
      "source": [
        "# Install ColBERT and add to path\n",
        "\n",
        "!git -C ColBERT/ pull || git clone https://github.com/stanford-futuredata/ColBERT.git > /dev/null 2>&1\n",
        "import sys; sys.path.insert(0, 'ColBERT/')"
      ]
    },
    {
      "cell_type": "code",
      "source": [
        "# Download the ColBERT Checkpoint\n",
        "!wget \"https://downloads.cs.stanford.edu/nlp/data/colbert/colbertv2/colbertv2.0.tar.gz\"\n",
        "!mkdir -p checkpoints  # Create the 'checkpoints' directory if it doesn't exist\n",
        "!tar -xvzf colbertv2.0.tar.gz -C checkpoints"
      ],
      "metadata": {
        "colab": {
          "base_uri": "https://localhost:8080/"
        },
        "id": "4ymdWYpPpdVH",
        "outputId": "68e2f266-fb6a-4451-f10b-f65994756a3a"
      },
      "execution_count": 3,
      "outputs": [
        {
          "output_type": "stream",
          "name": "stdout",
          "text": [
            "--2024-12-09 20:52:43--  https://downloads.cs.stanford.edu/nlp/data/colbert/colbertv2/colbertv2.0.tar.gz\n",
            "Resolving downloads.cs.stanford.edu (downloads.cs.stanford.edu)... 171.64.64.22\n",
            "Connecting to downloads.cs.stanford.edu (downloads.cs.stanford.edu)|171.64.64.22|:443... connected.\n",
            "HTTP request sent, awaiting response... 200 OK\n",
            "Length: 405924985 (387M) [application/octet-stream]\n",
            "Saving to: ‘colbertv2.0.tar.gz’\n",
            "\n",
            "colbertv2.0.tar.gz  100%[===================>] 387.12M  5.07MB/s    in 72s     \n",
            "\n",
            "2024-12-09 20:53:55 (5.36 MB/s) - ‘colbertv2.0.tar.gz’ saved [405924985/405924985]\n",
            "\n",
            "colbertv2.0/\n",
            "colbertv2.0/artifact.metadata\n",
            "colbertv2.0/vocab.txt\n",
            "colbertv2.0/tokenizer.json\n",
            "colbertv2.0/special_tokens_map.json\n",
            "colbertv2.0/tokenizer_config.json\n",
            "colbertv2.0/config.json\n",
            "colbertv2.0/pytorch_model.bin\n"
          ]
        }
      ]
    },
    {
      "cell_type": "code",
      "source": [
        "try: # When on google Colab, let's install all dependencies with pip.\n",
        "    import google.colab\n",
        "    !pip install -U pip > /dev/null 2>&1\n",
        "    !pip install fsspec==2024.9.0 > /dev/null 2>&1\n",
        "    !pip install -e ColBERT/['faiss-gpu','torch'] > /dev/null 2>&1\n",
        "    !pip install --upgrade torch torchvision torchaudio > /dev/null 2>&1\n",
        "except Exception:\n",
        "  import sys; sys.path.insert(0, 'ColBERT/')\n",
        "  try:\n",
        "    from colbert import Indexer, Searcher\n",
        "  except Exception:\n",
        "    print(\"If you're running outside Colab, please make sure you install ColBERT in conda following the instructions in our README. You can also install (as above) with pip but it may install slower or less stable faiss or torch dependencies. Conda is recommended.\")\n",
        "    assert False"
      ],
      "metadata": {
        "id": "98vo3zu0aLF2"
      },
      "execution_count": 4,
      "outputs": []
    },
    {
      "cell_type": "code",
      "source": [
        "# ColBERT Imports\n",
        "import colbert\n",
        "from colbert import Indexer, Searcher\n",
        "from colbert.infra import Run, RunConfig, ColBERTConfig\n",
        "from colbert.data import Queries, Collection"
      ],
      "metadata": {
        "id": "jbR_4yFoaTPY"
      },
      "execution_count": 5,
      "outputs": []
    },
    {
      "cell_type": "code",
      "source": [
        "import pandas as pd\n",
        "import logging\n",
        "\n",
        "article_df = pd.read_csv('articles_with_text.csv')\n",
        "article_df['doc_id'] = range(len(article_df))\n",
        "\n",
        "articles_subset = article_df[['doc_id', 'article_text_raw', 'url', 'titles']]\n",
        "articles = articles_subset['article_text_raw'].tolist()\n",
        "metadata = articles_subset[['doc_id', 'url', 'titles']].set_index('doc_id').to_dict(orient='index')\n"
      ],
      "metadata": {
        "id": "g5Eq9bCRic5C"
      },
      "execution_count": 36,
      "outputs": []
    },
    {
      "cell_type": "code",
      "source": [
        "nbits = 2   # encode each dimension with 2 bits\n",
        "doc_maxlen = 300 # truncate passages at 300 tokens\n",
        "\n",
        "index_name = f'dsan5400_project_nbits={nbits}'"
      ],
      "metadata": {
        "id": "o1dSunw-bbfo"
      },
      "execution_count": 37,
      "outputs": []
    },
    {
      "cell_type": "code",
      "source": [
        "checkpoint = 'colbert-ir/colbertv2.0'\n",
        "\n",
        "with Run().context(RunConfig(nranks=1, experiment='DSAN5400')):\n",
        "    config = ColBERTConfig(doc_maxlen=doc_maxlen, nbits=nbits, kmeans_niters=4)\n",
        "    indexer = Indexer(checkpoint=checkpoint, config=config)\n",
        "    logging.info(f\"Starting indexing process for {len(articles)} articles...\")\n",
        "    indexer.index(name=index_name, collection=articles, overwrite=True)\n",
        "    logging.info(\"Indexing complete.\")"
      ],
      "metadata": {
        "colab": {
          "base_uri": "https://localhost:8080/"
        },
        "id": "R2iGv89OuX-d",
        "outputId": "75af8efe-5b3a-45bb-d5d2-0aea701ceaee"
      },
      "execution_count": 38,
      "outputs": [
        {
          "output_type": "stream",
          "name": "stdout",
          "text": [
            "\n",
            "\n",
            "[Dec 09, 21:57:55] #> Note: Output directory /content/experiments/DSAN5400/indexes/dsan5400_project_nbits=2 already exists\n",
            "\n",
            "\n",
            "[Dec 09, 21:57:55] #> Will delete 10 files already at /content/experiments/DSAN5400/indexes/dsan5400_project_nbits=2 in 20 seconds...\n",
            "#> Starting...\n",
            "#> Joined...\n"
          ]
        }
      ]
    },
    {
      "cell_type": "code",
      "source": [
        "# To create the searcher using its relative name (i.e., not a full path), set\n",
        "# experiment=value_used_for_indexing in the RunConfig.\n",
        "with Run().context(RunConfig(experiment='DSAN5400')):\n",
        "    searcher = Searcher(index=index_name, collection=articles)\n",
        "\n",
        "\n",
        "# If you want to customize the search latency--quality tradeoff, you can also supply a\n",
        "# config=ColBERTConfig(ncells=.., centroid_score_threshold=.., ndocs=..) argument.\n",
        "# The default settings with k <= 10 (1, 0.5, 256) gives the fastest search,\n",
        "# but you can gain more extensive search by setting larger values of k or\n",
        "# manually specifying more conservative ColBERTConfig settings (e.g. (4, 0.4, 4096))."
      ],
      "metadata": {
        "colab": {
          "base_uri": "https://localhost:8080/"
        },
        "id": "Kh4iXEjT0Crx",
        "outputId": "8cbda79d-5c46-4513-99fd-5493e950f01d"
      },
      "execution_count": 47,
      "outputs": [
        {
          "output_type": "stream",
          "name": "stdout",
          "text": [
            "[Dec 09, 22:04:37] #> Loading codec...\n",
            "[Dec 09, 22:04:37] #> Loading IVF...\n",
            "[Dec 09, 22:04:37] #> Loading doclens...\n"
          ]
        },
        {
          "output_type": "stream",
          "name": "stderr",
          "text": [
            "100%|██████████| 1/1 [00:00<00:00, 1780.26it/s]"
          ]
        },
        {
          "output_type": "stream",
          "name": "stdout",
          "text": [
            "[Dec 09, 22:04:37] #> Loading codes and residuals...\n"
          ]
        },
        {
          "output_type": "stream",
          "name": "stderr",
          "text": [
            "\n",
            "100%|██████████| 1/1 [00:00<00:00, 16.61it/s]\n"
          ]
        }
      ]
    },
    {
      "cell_type": "code",
      "source": [
        "# Sample query\n",
        "query = articles[15]\n",
        "#print(f\"#> {query}\")\n",
        "\n",
        "# Find the top-6 passages for this query\n",
        "results = searcher.search(query, k=6)\n",
        "\n",
        "# Print out the top-5 retrieved passages excluding the first one (result 1)\n",
        "for i, (passage_id, passage_rank, passage_score) in enumerate(zip(*results)):\n",
        "    if i == 0:\n",
        "        continue\n",
        "\n",
        "    # Error Handling:\n",
        "    if passage_id < len(searcher.collection):\n",
        "        # Get the document ID and corresponding metadata (url, title)\n",
        "        metadata_info = metadata.get(passage_id, None)\n",
        "\n",
        "        if metadata_info:\n",
        "            url = metadata_info['url']\n",
        "            title = metadata_info['titles']\n",
        "        else:\n",
        "            url = \"URL not found\"\n",
        "            title = \"Title not found\"\n",
        "\n",
        "        # Print the results\n",
        "        print(f\"Rank: {passage_rank - 1}\\tScore: {passage_score:.3f}\")\n",
        "        print(f\"Title: {title}\")\n",
        "        print(f\"URL: {url}\")\n",
        "        print(f\"Passage ID: {passage_id}\")\n",
        "        print(f\"\\n\")\n",
        "\n",
        "    else:\n",
        "        print(f\"Warning: Passage ID {passage_id} is out of range for the collection.\")"
      ],
      "metadata": {
        "colab": {
          "base_uri": "https://localhost:8080/"
        },
        "id": "JZ7bJ9MsBipK",
        "outputId": "7f0b9bc5-0f3a-4aee-85c1-96c88ad91671"
      },
      "execution_count": 55,
      "outputs": [
        {
          "output_type": "stream",
          "name": "stdout",
          "text": [
            "Rank: 1\tScore: 16.484\n",
            "Title: After Trump’s win, some women are considering the 4B movement\n",
            "URL: https://www.cnn.com/2024/11/09/us/4b-movement-trump-south-korea-wellness-cec/index.html\n",
            "Passage ID: 2240\n",
            "\n",
            "\n",
            "Rank: 2\tScore: 15.875\n",
            "Title: US, South Korea and Japan slam ‘dangerous’ ties between Russia, North Korea\n",
            "URL: https://www.aljazeera.com/news/2024/11/16/us-south-korea-and-japan-slam-dangerous-ties-between-russia-north-korea\n",
            "Passage ID: 382\n",
            "\n",
            "\n",
            "Rank: 3\tScore: 15.828\n",
            "Title: South Korea condemns Russia’s move to seal defence pact with North Korea\n",
            "URL: https://www.aljazeera.com/news/2024/10/25/south-korea-condemns-russias-move-to-seal-defence-pact-with-north-korea\n",
            "Passage ID: 554\n",
            "\n",
            "\n",
            "Rank: 4\tScore: 15.711\n",
            "Title: South Korea says ‘not ruling out’ supplying weapons to Ukraine\n",
            "URL: https://www.aljazeera.com/news/2024/11/7/south-korea-says-not-ruling-out-supplying-weapons-to-ukraine\n",
            "Passage ID: 338\n",
            "\n",
            "\n",
            "Rank: 5\tScore: 15.695\n",
            "Title: RFK Jr., on eve of Election Day, tells voters 'do NOT vote for me'\n",
            "URL: https://www.foxnews.com/politics/rfk-jr-eve-election-day-tells-voters-do-not-vote-me\n",
            "Passage ID: 980\n",
            "\n",
            "\n"
          ]
        }
      ]
    },
    {
      "cell_type": "code",
      "source": [
        "# Get the index from URL\n",
        "def get_article_index_by_url(url, metadata):\n",
        "    for idx, metadata_info in metadata.items():\n",
        "        if metadata_info['url'] == url:\n",
        "            return idx\n",
        "    return None\n",
        "\n",
        "# Prompt for URL\n",
        "user_url = input(\"Please enter the URL of the article: \")\n",
        "\n",
        "# Find the index from URL\n",
        "article_index = get_article_index_by_url(user_url, metadata)\n",
        "\n",
        "# Function with error handling\n",
        "if article_index is not None:\n",
        "    query = articles[article_index]\n",
        "    query_metadata = metadata.get(article_index, None)\n",
        "    print(\"Showing top 5 most similar articles to: \" + query_metadata['titles'])\n",
        "    print(f\"\\n\")\n",
        "\n",
        "    # Perform the search to find the top-k passages\n",
        "    results = searcher.search(query, k=6)\n",
        "\n",
        "    # Print out the top-5 retrieved passages excluding the first one (result 1)\n",
        "    for i, (passage_id, passage_rank, passage_score) in enumerate(zip(*results)):\n",
        "        if i == 0:\n",
        "            continue\n",
        "\n",
        "        if passage_id < len(searcher.collection):\n",
        "            metadata_info = metadata.get(passage_id, None)\n",
        "\n",
        "            if metadata_info:\n",
        "                url = metadata_info['url']\n",
        "                title = metadata_info['titles']\n",
        "            else:\n",
        "                url = \"URL not found\"\n",
        "                title = \"Title not found\"\n",
        "\n",
        "            print(f\"Rank: {passage_rank - 1}\")\n",
        "            print(f\"Title: {title}\")\n",
        "            print(f\"URL: {url}\")\n",
        "            print(f\"Passage ID: {passage_id}\")\n",
        "            print(f\"\\n\")\n",
        "        else:\n",
        "            print(f\"Warning: Passage ID {passage_id} is out of range for the collection.\")\n",
        "else:\n",
        "    print(\"No article found for the given URL.\")\n"
      ],
      "metadata": {
        "id": "Hzd-QKwIe9-P",
        "outputId": "1c37fba4-56e6-4013-9d49-78b24d0d3b28",
        "colab": {
          "base_uri": "https://localhost:8080/"
        }
      },
      "execution_count": 64,
      "outputs": [
        {
          "output_type": "stream",
          "name": "stdout",
          "text": [
            "Please enter the URL of the article: https://www.aljazeera.com/program/the-stream/2024/11/1/what-issues-are-americans-facing-this-election\n",
            "Showing top 5 most similar articles to: What issues are Americans facing this election?\n",
            "\n",
            "\n",
            "Rank: 1\tScore: 18.328\n",
            "Title: Post-election decision: Do you want to live in a red state or a blue state?\n",
            "URL: https://www.foxnews.com/opinion/post-election-decision-do-you-want-live-red-state-blue-state\n",
            "Passage ID: 1105\n",
            "\n",
            "\n",
            "Rank: 2\tScore: 18.031\n",
            "Title: A simple guide to the US election 2024\n",
            "URL: https://www.aljazeera.com/features/2024/10/30/a-simple-guide-to-the-us-election-2024\n",
            "Passage ID: 30\n",
            "\n",
            "\n",
            "Rank: 3\tScore: 17.844\n",
            "Title: Election anxiety leads many Americans to avoid family and friends, survey finds\n",
            "URL: https://www.foxnews.com/health/election-anxiety-leads-many-americans-avoid-family-friends-survey-finds\n",
            "Passage ID: 772\n",
            "\n",
            "\n",
            "Rank: 4\tScore: 17.750\n",
            "Title: The world watches as US election results trickle in\n",
            "URL: https://apnews.com/article/election-world-watches-photos-61fcafce34fffca9647e4616e0159c0c\n",
            "Passage ID: 3181\n",
            "\n",
            "\n",
            "Rank: 5\tScore: 17.656\n",
            "Title: Harris, Trump hit North Carolina in final weekend push before US election\n",
            "URL: https://www.aljazeera.com/news/2024/11/2/harris-trump-hit-north-carolina-in-final-weekend-push-before-us-election\n",
            "Passage ID: 96\n",
            "\n",
            "\n"
          ]
        },
        {
          "output_type": "stream",
          "name": "stderr",
          "text": [
            "/content/ColBERT/colbert/utils/amp.py:15: FutureWarning: `torch.cuda.amp.autocast(args...)` is deprecated. Please use `torch.amp.autocast('cuda', args...)` instead.\n",
            "  return torch.cuda.amp.autocast() if self.activated else NullContextManager()\n"
          ]
        }
      ]
    },
    {
      "cell_type": "code",
      "source": [
        "searcher.collection[passage_id]"
      ],
      "metadata": {
        "colab": {
          "base_uri": "https://localhost:8080/",
          "height": 127
        },
        "id": "QUQ5lylsB9C9",
        "outputId": "1a5a0e82-ca2c-4d00-9788-3441571c494d"
      },
      "execution_count": 57,
      "outputs": [
        {
          "output_type": "execute_result",
          "data": {
            "text/plain": [
              "'Former 2024 presidential candidate Robert F. Kennedy, Jr. discusses the close race between former President Trump and Vice President Harris in Michigan, accuses Democrats of trying to \\'confuse voters\\' on \\'The Story.\\'\\r\\nRobert F. Kennedy Jr. is telling Americans \"do NOT vote for me\" on the eve of Election Day, adding in a video that a vote for Trump is \"the only way that we can get me and everything I stand for into Washington, D.C. and fulfill the mission that motivated my campaign.\"\\xa0\\r\\nThe fresh plea comes after the Supreme Court last week denied separate appeals by RFK Jr. to remove his name from the ballots in Wisconsin and Michigan. \\xa0\\r\\n\"I\\'ve asked my voters repeatedly to vote for President Trump, but even a few votes for me in [Michigan] could swing the ballot in a way that the public doesn\\'t intend and the voters don\\'t intend,\" he told \"America\\'s Newsroom\" on Sunday.\\r\\nKennedy, who once was running as an independent presidential candidate, has been trying to get his name off ballots in key battleground states since he suspended his campaign in August and endorsed Trump.\\xa0\\r\\n\"Hey everybody, a lot of people are asking me if they live in a red state or blue state should they still be voting for me? What about swing states? The answer is easy – no,\" RFK Jr. then said in a video posted to his\\xa0X account on Monday.\\xa0\\r\\n\"No matter what state you live in, you should be voting for Donald Trump. And let me tell you why. That’s the only way that we can get me and everything I stand for into Washington, D.C. and fulfill the mission that motivated my campaign,\" he continued.\\xa0\\r\\nAbove the video, RFK Jr. wrote \"No matter what state you live in, do NOT vote for me\" and \"Let\\'s get President Trump back in the White House and me to Washington so we can Make America Healthy Again, end the forever wars, and protect our civil liberties.\"\\xa0\\r\\nWhen he suspended his campaign, Kennedy said he planned to keep his name on the ballot in safe Democratic and Republican states, but didn’t want to be a spoiler in battleground states.\\xa0\\r\\nGreg Norman is a reporter at Fox News Digital.'"
            ],
            "application/vnd.google.colaboratory.intrinsic+json": {
              "type": "string"
            }
          },
          "metadata": {},
          "execution_count": 57
        }
      ]
    },
    {
      "cell_type": "code",
      "source": [
        "results"
      ],
      "metadata": {
        "colab": {
          "base_uri": "https://localhost:8080/"
        },
        "id": "R08b0mgnCWDX",
        "outputId": "9580d488-6fbd-4648-95c4-7210a5ee858a"
      },
      "execution_count": null,
      "outputs": [
        {
          "output_type": "execute_result",
          "data": {
            "text/plain": [
              "([414, 29, 60], [1, 2, 3], [23.359375, 22.140625, 21.0625])"
            ]
          },
          "metadata": {},
          "execution_count": 35
        }
      ]
    },
    {
      "cell_type": "code",
      "source": [],
      "metadata": {
        "id": "4gbPC0EDCkJn"
      },
      "execution_count": null,
      "outputs": []
    }
  ]
}