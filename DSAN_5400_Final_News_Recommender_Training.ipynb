{
  "nbformat": 4,
  "nbformat_minor": 0,
  "metadata": {
    "colab": {
      "provenance": [],
      "gpuType": "T4",
      "authorship_tag": "ABX9TyNMBMXcE6qFchkdvZtgxZrT",
      "include_colab_link": true
    },
    "kernelspec": {
      "name": "python3",
      "display_name": "Python 3"
    },
    "language_info": {
      "name": "python"
    },
    "accelerator": "GPU",
    "widgets": {
      "application/vnd.jupyter.widget-state+json": {
        "0234cde8d0c54b8fa9c0ebfa5b2fc702": {
          "model_module": "@jupyter-widgets/controls",
          "model_name": "HBoxModel",
          "model_module_version": "1.5.0",
          "state": {
            "_dom_classes": [],
            "_model_module": "@jupyter-widgets/controls",
            "_model_module_version": "1.5.0",
            "_model_name": "HBoxModel",
            "_view_count": null,
            "_view_module": "@jupyter-widgets/controls",
            "_view_module_version": "1.5.0",
            "_view_name": "HBoxView",
            "box_style": "",
            "children": [
              "IPY_MODEL_919d4b2e086244d8973c84d199ade9b2",
              "IPY_MODEL_20443808c5b8474396d77d8d7104b0e1",
              "IPY_MODEL_c3605087ec8848ab9fde572f4cd632fb"
            ],
            "layout": "IPY_MODEL_067539e89bdf42a998eecea25262e9e9"
          }
        },
        "919d4b2e086244d8973c84d199ade9b2": {
          "model_module": "@jupyter-widgets/controls",
          "model_name": "HTMLModel",
          "model_module_version": "1.5.0",
          "state": {
            "_dom_classes": [],
            "_model_module": "@jupyter-widgets/controls",
            "_model_module_version": "1.5.0",
            "_model_name": "HTMLModel",
            "_view_count": null,
            "_view_module": "@jupyter-widgets/controls",
            "_view_module_version": "1.5.0",
            "_view_name": "HTMLView",
            "description": "",
            "description_tooltip": null,
            "layout": "IPY_MODEL_1e10cbae18fd4762936a7222793e55a1",
            "placeholder": "​",
            "style": "IPY_MODEL_5e80b44a008646659789ca69baac6f74",
            "value": "artifact.metadata: 100%"
          }
        },
        "20443808c5b8474396d77d8d7104b0e1": {
          "model_module": "@jupyter-widgets/controls",
          "model_name": "FloatProgressModel",
          "model_module_version": "1.5.0",
          "state": {
            "_dom_classes": [],
            "_model_module": "@jupyter-widgets/controls",
            "_model_module_version": "1.5.0",
            "_model_name": "FloatProgressModel",
            "_view_count": null,
            "_view_module": "@jupyter-widgets/controls",
            "_view_module_version": "1.5.0",
            "_view_name": "ProgressView",
            "bar_style": "success",
            "description": "",
            "description_tooltip": null,
            "layout": "IPY_MODEL_819301415e8d4b308f5665458439996f",
            "max": 1633,
            "min": 0,
            "orientation": "horizontal",
            "style": "IPY_MODEL_8aa71113a3f0467792f9771cb5d71550",
            "value": 1633
          }
        },
        "c3605087ec8848ab9fde572f4cd632fb": {
          "model_module": "@jupyter-widgets/controls",
          "model_name": "HTMLModel",
          "model_module_version": "1.5.0",
          "state": {
            "_dom_classes": [],
            "_model_module": "@jupyter-widgets/controls",
            "_model_module_version": "1.5.0",
            "_model_name": "HTMLModel",
            "_view_count": null,
            "_view_module": "@jupyter-widgets/controls",
            "_view_module_version": "1.5.0",
            "_view_name": "HTMLView",
            "description": "",
            "description_tooltip": null,
            "layout": "IPY_MODEL_58a308a13bbb4effb17c89b095427097",
            "placeholder": "​",
            "style": "IPY_MODEL_f6ce0df847004b42b65ca7b0461e62a1",
            "value": " 1.63k/1.63k [00:00&lt;00:00, 41.5kB/s]"
          }
        },
        "067539e89bdf42a998eecea25262e9e9": {
          "model_module": "@jupyter-widgets/base",
          "model_name": "LayoutModel",
          "model_module_version": "1.2.0",
          "state": {
            "_model_module": "@jupyter-widgets/base",
            "_model_module_version": "1.2.0",
            "_model_name": "LayoutModel",
            "_view_count": null,
            "_view_module": "@jupyter-widgets/base",
            "_view_module_version": "1.2.0",
            "_view_name": "LayoutView",
            "align_content": null,
            "align_items": null,
            "align_self": null,
            "border": null,
            "bottom": null,
            "display": null,
            "flex": null,
            "flex_flow": null,
            "grid_area": null,
            "grid_auto_columns": null,
            "grid_auto_flow": null,
            "grid_auto_rows": null,
            "grid_column": null,
            "grid_gap": null,
            "grid_row": null,
            "grid_template_areas": null,
            "grid_template_columns": null,
            "grid_template_rows": null,
            "height": null,
            "justify_content": null,
            "justify_items": null,
            "left": null,
            "margin": null,
            "max_height": null,
            "max_width": null,
            "min_height": null,
            "min_width": null,
            "object_fit": null,
            "object_position": null,
            "order": null,
            "overflow": null,
            "overflow_x": null,
            "overflow_y": null,
            "padding": null,
            "right": null,
            "top": null,
            "visibility": null,
            "width": null
          }
        },
        "1e10cbae18fd4762936a7222793e55a1": {
          "model_module": "@jupyter-widgets/base",
          "model_name": "LayoutModel",
          "model_module_version": "1.2.0",
          "state": {
            "_model_module": "@jupyter-widgets/base",
            "_model_module_version": "1.2.0",
            "_model_name": "LayoutModel",
            "_view_count": null,
            "_view_module": "@jupyter-widgets/base",
            "_view_module_version": "1.2.0",
            "_view_name": "LayoutView",
            "align_content": null,
            "align_items": null,
            "align_self": null,
            "border": null,
            "bottom": null,
            "display": null,
            "flex": null,
            "flex_flow": null,
            "grid_area": null,
            "grid_auto_columns": null,
            "grid_auto_flow": null,
            "grid_auto_rows": null,
            "grid_column": null,
            "grid_gap": null,
            "grid_row": null,
            "grid_template_areas": null,
            "grid_template_columns": null,
            "grid_template_rows": null,
            "height": null,
            "justify_content": null,
            "justify_items": null,
            "left": null,
            "margin": null,
            "max_height": null,
            "max_width": null,
            "min_height": null,
            "min_width": null,
            "object_fit": null,
            "object_position": null,
            "order": null,
            "overflow": null,
            "overflow_x": null,
            "overflow_y": null,
            "padding": null,
            "right": null,
            "top": null,
            "visibility": null,
            "width": null
          }
        },
        "5e80b44a008646659789ca69baac6f74": {
          "model_module": "@jupyter-widgets/controls",
          "model_name": "DescriptionStyleModel",
          "model_module_version": "1.5.0",
          "state": {
            "_model_module": "@jupyter-widgets/controls",
            "_model_module_version": "1.5.0",
            "_model_name": "DescriptionStyleModel",
            "_view_count": null,
            "_view_module": "@jupyter-widgets/base",
            "_view_module_version": "1.2.0",
            "_view_name": "StyleView",
            "description_width": ""
          }
        },
        "819301415e8d4b308f5665458439996f": {
          "model_module": "@jupyter-widgets/base",
          "model_name": "LayoutModel",
          "model_module_version": "1.2.0",
          "state": {
            "_model_module": "@jupyter-widgets/base",
            "_model_module_version": "1.2.0",
            "_model_name": "LayoutModel",
            "_view_count": null,
            "_view_module": "@jupyter-widgets/base",
            "_view_module_version": "1.2.0",
            "_view_name": "LayoutView",
            "align_content": null,
            "align_items": null,
            "align_self": null,
            "border": null,
            "bottom": null,
            "display": null,
            "flex": null,
            "flex_flow": null,
            "grid_area": null,
            "grid_auto_columns": null,
            "grid_auto_flow": null,
            "grid_auto_rows": null,
            "grid_column": null,
            "grid_gap": null,
            "grid_row": null,
            "grid_template_areas": null,
            "grid_template_columns": null,
            "grid_template_rows": null,
            "height": null,
            "justify_content": null,
            "justify_items": null,
            "left": null,
            "margin": null,
            "max_height": null,
            "max_width": null,
            "min_height": null,
            "min_width": null,
            "object_fit": null,
            "object_position": null,
            "order": null,
            "overflow": null,
            "overflow_x": null,
            "overflow_y": null,
            "padding": null,
            "right": null,
            "top": null,
            "visibility": null,
            "width": null
          }
        },
        "8aa71113a3f0467792f9771cb5d71550": {
          "model_module": "@jupyter-widgets/controls",
          "model_name": "ProgressStyleModel",
          "model_module_version": "1.5.0",
          "state": {
            "_model_module": "@jupyter-widgets/controls",
            "_model_module_version": "1.5.0",
            "_model_name": "ProgressStyleModel",
            "_view_count": null,
            "_view_module": "@jupyter-widgets/base",
            "_view_module_version": "1.2.0",
            "_view_name": "StyleView",
            "bar_color": null,
            "description_width": ""
          }
        },
        "58a308a13bbb4effb17c89b095427097": {
          "model_module": "@jupyter-widgets/base",
          "model_name": "LayoutModel",
          "model_module_version": "1.2.0",
          "state": {
            "_model_module": "@jupyter-widgets/base",
            "_model_module_version": "1.2.0",
            "_model_name": "LayoutModel",
            "_view_count": null,
            "_view_module": "@jupyter-widgets/base",
            "_view_module_version": "1.2.0",
            "_view_name": "LayoutView",
            "align_content": null,
            "align_items": null,
            "align_self": null,
            "border": null,
            "bottom": null,
            "display": null,
            "flex": null,
            "flex_flow": null,
            "grid_area": null,
            "grid_auto_columns": null,
            "grid_auto_flow": null,
            "grid_auto_rows": null,
            "grid_column": null,
            "grid_gap": null,
            "grid_row": null,
            "grid_template_areas": null,
            "grid_template_columns": null,
            "grid_template_rows": null,
            "height": null,
            "justify_content": null,
            "justify_items": null,
            "left": null,
            "margin": null,
            "max_height": null,
            "max_width": null,
            "min_height": null,
            "min_width": null,
            "object_fit": null,
            "object_position": null,
            "order": null,
            "overflow": null,
            "overflow_x": null,
            "overflow_y": null,
            "padding": null,
            "right": null,
            "top": null,
            "visibility": null,
            "width": null
          }
        },
        "f6ce0df847004b42b65ca7b0461e62a1": {
          "model_module": "@jupyter-widgets/controls",
          "model_name": "DescriptionStyleModel",
          "model_module_version": "1.5.0",
          "state": {
            "_model_module": "@jupyter-widgets/controls",
            "_model_module_version": "1.5.0",
            "_model_name": "DescriptionStyleModel",
            "_view_count": null,
            "_view_module": "@jupyter-widgets/base",
            "_view_module_version": "1.2.0",
            "_view_name": "StyleView",
            "description_width": ""
          }
        }
      }
    }
  },
  "cells": [
    {
      "cell_type": "markdown",
      "metadata": {
        "id": "view-in-github",
        "colab_type": "text"
      },
      "source": [
        "<a href=\"https://colab.research.google.com/github/jaredzrks0/DSAN5400_final_project/blob/main/DSAN_5400_Final_News_Recommender_Training.ipynb\" target=\"_parent\"><img src=\"https://colab.research.google.com/assets/colab-badge.svg\" alt=\"Open In Colab\"/></a>"
      ]
    },
    {
      "cell_type": "code",
      "source": [
        "import os"
      ],
      "metadata": {
        "id": "ilhaXrcxiNFY"
      },
      "execution_count": 1,
      "outputs": []
    },
    {
      "cell_type": "code",
      "execution_count": 2,
      "metadata": {
        "id": "3ecAxG4-Wifu",
        "colab": {
          "base_uri": "https://localhost:8080/"
        },
        "outputId": "5fda613b-618a-4a8c-f8a8-efcabe89f627"
      },
      "outputs": [
        {
          "output_type": "stream",
          "name": "stdout",
          "text": [
            "fatal: cannot change to 'ColBERT/': No such file or directory\n"
          ]
        }
      ],
      "source": [
        "# Install ColBERT and add to path\n",
        "\n",
        "!git -C ColBERT/ pull || git clone https://github.com/stanford-futuredata/ColBERT.git > /dev/null 2>&1\n",
        "import sys; sys.path.insert(0, 'ColBERT/')"
      ]
    },
    {
      "cell_type": "code",
      "source": [
        "# Download the ColBERT Checkpoint\n",
        "!wget \"https://downloads.cs.stanford.edu/nlp/data/colbert/colbertv2/colbertv2.0.tar.gz\"\n",
        "!mkdir -p checkpoints  # Create the 'checkpoints' directory if it doesn't exist\n",
        "!tar -xvzf colbertv2.0.tar.gz -C checkpoints"
      ],
      "metadata": {
        "colab": {
          "base_uri": "https://localhost:8080/"
        },
        "id": "4ymdWYpPpdVH",
        "outputId": "b782d267-af1b-48de-81af-391a78f95226"
      },
      "execution_count": 3,
      "outputs": [
        {
          "output_type": "stream",
          "name": "stdout",
          "text": [
            "--2024-12-06 21:51:27--  https://downloads.cs.stanford.edu/nlp/data/colbert/colbertv2/colbertv2.0.tar.gz\n",
            "Resolving downloads.cs.stanford.edu (downloads.cs.stanford.edu)... 171.64.64.22\n",
            "Connecting to downloads.cs.stanford.edu (downloads.cs.stanford.edu)|171.64.64.22|:443... connected.\n",
            "HTTP request sent, awaiting response... 200 OK\n",
            "Length: 405924985 (387M) [application/octet-stream]\n",
            "Saving to: ‘colbertv2.0.tar.gz’\n",
            "\n",
            "colbertv2.0.tar.gz  100%[===================>] 387.12M  5.02MB/s    in 72s     \n",
            "\n",
            "2024-12-06 21:52:39 (5.41 MB/s) - ‘colbertv2.0.tar.gz’ saved [405924985/405924985]\n",
            "\n",
            "colbertv2.0/\n",
            "colbertv2.0/artifact.metadata\n",
            "colbertv2.0/vocab.txt\n",
            "colbertv2.0/tokenizer.json\n",
            "colbertv2.0/special_tokens_map.json\n",
            "colbertv2.0/tokenizer_config.json\n",
            "colbertv2.0/config.json\n",
            "colbertv2.0/pytorch_model.bin\n"
          ]
        }
      ]
    },
    {
      "cell_type": "code",
      "source": [
        "try: # When on google Colab, let's install all dependencies with pip.\n",
        "    import google.colab\n",
        "    !pip install -U pip > /dev/null 2>&1\n",
        "    !pip install fsspec==2024.9.0 > /dev/null 2>&1\n",
        "    !pip install -e ColBERT/['faiss-gpu','torch'] > /dev/null 2>&1\n",
        "    !pip install --upgrade torch torchvision torchaudio > /dev/null 2>&1\n",
        "except Exception:\n",
        "  import sys; sys.path.insert(0, 'ColBERT/')\n",
        "  try:\n",
        "    from colbert import Indexer, Searcher\n",
        "  except Exception:\n",
        "    print(\"If you're running outside Colab, please make sure you install ColBERT in conda following the instructions in our README. You can also install (as above) with pip but it may install slower or less stable faiss or torch dependencies. Conda is recommended.\")\n",
        "    assert False"
      ],
      "metadata": {
        "id": "98vo3zu0aLF2"
      },
      "execution_count": 4,
      "outputs": []
    },
    {
      "cell_type": "code",
      "source": [
        "# ColBERT Imports\n",
        "import colbert\n",
        "from colbert import Indexer, Searcher\n",
        "from colbert.infra import Run, RunConfig, ColBERTConfig\n",
        "from colbert.data import Queries, Collection"
      ],
      "metadata": {
        "id": "jbR_4yFoaTPY"
      },
      "execution_count": 5,
      "outputs": []
    },
    {
      "cell_type": "code",
      "source": [
        "import pandas as pd\n",
        "\n",
        "df = pd.read_csv('collection.tsv', sep='\\t', header=None)\n"
      ],
      "metadata": {
        "id": "g5Eq9bCRic5C"
      },
      "execution_count": 8,
      "outputs": []
    },
    {
      "cell_type": "code",
      "source": [
        "# Clean the df to get just a list of strings\n",
        "texts = df[0]\n",
        "articles = [text.split('\\t')[1] for text in texts]"
      ],
      "metadata": {
        "id": "e1NedVeDji0V"
      },
      "execution_count": 21,
      "outputs": []
    },
    {
      "cell_type": "code",
      "source": [
        "nbits = 2   # encode each dimension with 2 bits\n",
        "doc_maxlen = 300 # truncate passages at 300 tokens\n",
        "\n",
        "index_name = f'dsan5400_project_nbits={nbits}'"
      ],
      "metadata": {
        "id": "o1dSunw-bbfo"
      },
      "execution_count": 22,
      "outputs": []
    },
    {
      "cell_type": "code",
      "source": [
        "checkpoint = 'colbert-ir/colbertv2.0'\n",
        "\n",
        "with Run().context(RunConfig(nranks=1, experiment='DSAN5400')):  # nranks specifies the number of GPUs to use\n",
        "    config = ColBERTConfig(doc_maxlen=doc_maxlen, nbits=nbits, kmeans_niters=4) # kmeans_niters specifies the number of iterations of k-means clustering; 4 is a good and fast default.\n",
        "                                                                                # Consider larger numbers for small datasets.\n",
        "\n",
        "    indexer = Indexer(checkpoint=checkpoint, config=config)\n",
        "    indexer.index(name=index_name, collection=articles[:500], overwrite=True)"
      ],
      "metadata": {
        "colab": {
          "base_uri": "https://localhost:8080/",
          "height": 290,
          "referenced_widgets": [
            "0234cde8d0c54b8fa9c0ebfa5b2fc702",
            "919d4b2e086244d8973c84d199ade9b2",
            "20443808c5b8474396d77d8d7104b0e1",
            "c3605087ec8848ab9fde572f4cd632fb",
            "067539e89bdf42a998eecea25262e9e9",
            "1e10cbae18fd4762936a7222793e55a1",
            "5e80b44a008646659789ca69baac6f74",
            "819301415e8d4b308f5665458439996f",
            "8aa71113a3f0467792f9771cb5d71550",
            "58a308a13bbb4effb17c89b095427097",
            "f6ce0df847004b42b65ca7b0461e62a1"
          ]
        },
        "id": "R2iGv89OuX-d",
        "outputId": "b242f809-e30f-4fe8-f9a3-1611ffbcf908"
      },
      "execution_count": 27,
      "outputs": [
        {
          "output_type": "stream",
          "name": "stderr",
          "text": [
            "/usr/local/lib/python3.10/dist-packages/huggingface_hub/utils/_auth.py:94: UserWarning: \n",
            "The secret `HF_TOKEN` does not exist in your Colab secrets.\n",
            "To authenticate with the Hugging Face Hub, create a token in your settings tab (https://huggingface.co/settings/tokens), set it as secret in your Google Colab and restart your session.\n",
            "You will be able to reuse this secret in all of your notebooks.\n",
            "Please note that authentication is recommended but still optional to access public models or datasets.\n",
            "  warnings.warn(\n"
          ]
        },
        {
          "output_type": "display_data",
          "data": {
            "text/plain": [
              "artifact.metadata:   0%|          | 0.00/1.63k [00:00<?, ?B/s]"
            ],
            "application/vnd.jupyter.widget-view+json": {
              "version_major": 2,
              "version_minor": 0,
              "model_id": "0234cde8d0c54b8fa9c0ebfa5b2fc702"
            }
          },
          "metadata": {}
        },
        {
          "output_type": "stream",
          "name": "stdout",
          "text": [
            "\n",
            "\n",
            "[Dec 06, 22:02:33] #> Creating directory /content/experiments/DSAN5400/indexes/dsan5400_project_nbits=2 \n",
            "\n",
            "\n",
            "#> Starting...\n",
            "#> Joined...\n"
          ]
        }
      ]
    },
    {
      "cell_type": "code",
      "source": [
        "# To create the searcher using its relative name (i.e., not a full path), set\n",
        "# experiment=value_used_for_indexing in the RunConfig.\n",
        "with Run().context(RunConfig(experiment='DSAN5400')):\n",
        "    searcher = Searcher(index=index_name, collection=articles[:500])\n",
        "\n",
        "\n",
        "# If you want to customize the search latency--quality tradeoff, you can also supply a\n",
        "# config=ColBERTConfig(ncells=.., centroid_score_threshold=.., ndocs=..) argument.\n",
        "# The default settings with k <= 10 (1, 0.5, 256) gives the fastest search,\n",
        "# but you can gain more extensive search by setting larger values of k or\n",
        "# manually specifying more conservative ColBERTConfig settings (e.g. (4, 0.4, 4096))."
      ],
      "metadata": {
        "colab": {
          "base_uri": "https://localhost:8080/"
        },
        "id": "Kh4iXEjT0Crx",
        "outputId": "ccbe33b4-9c47-42d9-b202-91afa0ca7cbd"
      },
      "execution_count": 29,
      "outputs": [
        {
          "output_type": "stream",
          "name": "stdout",
          "text": [
            "[Dec 06, 22:11:27] #> Loading codec...\n",
            "[Dec 06, 22:11:27] Loading decompress_residuals_cpp extension (set COLBERT_LOAD_TORCH_EXTENSION_VERBOSE=True for more info)...\n"
          ]
        },
        {
          "output_type": "stream",
          "name": "stderr",
          "text": [
            "/content/ColBERT/colbert/utils/amp.py:12: FutureWarning: `torch.cuda.amp.GradScaler(args...)` is deprecated. Please use `torch.amp.GradScaler('cuda', args...)` instead.\n",
            "  self.scaler = torch.cuda.amp.GradScaler()\n",
            "/content/ColBERT/colbert/indexing/codecs/residual.py:141: FutureWarning: You are using `torch.load` with `weights_only=False` (the current default value), which uses the default pickle module implicitly. It is possible to construct malicious pickle data which will execute arbitrary code during unpickling (See https://github.com/pytorch/pytorch/blob/main/SECURITY.md#untrusted-models for more details). In a future release, the default value for `weights_only` will be flipped to `True`. This limits the functions that could be executed during unpickling. Arbitrary objects will no longer be allowed to be loaded via this mode unless they are explicitly allowlisted by the user via `torch.serialization.add_safe_globals`. We recommend you start setting `weights_only=True` for any use case where you don't have full control of the loaded file. Please open an issue on GitHub for any issues related to this experimental feature.\n",
            "  centroids = torch.load(centroids_path, map_location='cpu')\n",
            "/content/ColBERT/colbert/indexing/codecs/residual.py:142: FutureWarning: You are using `torch.load` with `weights_only=False` (the current default value), which uses the default pickle module implicitly. It is possible to construct malicious pickle data which will execute arbitrary code during unpickling (See https://github.com/pytorch/pytorch/blob/main/SECURITY.md#untrusted-models for more details). In a future release, the default value for `weights_only` will be flipped to `True`. This limits the functions that could be executed during unpickling. Arbitrary objects will no longer be allowed to be loaded via this mode unless they are explicitly allowlisted by the user via `torch.serialization.add_safe_globals`. We recommend you start setting `weights_only=True` for any use case where you don't have full control of the loaded file. Please open an issue on GitHub for any issues related to this experimental feature.\n",
            "  avg_residual = torch.load(avgresidual_path, map_location='cpu')\n",
            "/content/ColBERT/colbert/indexing/codecs/residual.py:143: FutureWarning: You are using `torch.load` with `weights_only=False` (the current default value), which uses the default pickle module implicitly. It is possible to construct malicious pickle data which will execute arbitrary code during unpickling (See https://github.com/pytorch/pytorch/blob/main/SECURITY.md#untrusted-models for more details). In a future release, the default value for `weights_only` will be flipped to `True`. This limits the functions that could be executed during unpickling. Arbitrary objects will no longer be allowed to be loaded via this mode unless they are explicitly allowlisted by the user via `torch.serialization.add_safe_globals`. We recommend you start setting `weights_only=True` for any use case where you don't have full control of the loaded file. Please open an issue on GitHub for any issues related to this experimental feature.\n",
            "  bucket_cutoffs, bucket_weights = torch.load(buckets_path, map_location='cpu')\n",
            "/usr/local/lib/python3.10/dist-packages/torch/utils/cpp_extension.py:1964: UserWarning: TORCH_CUDA_ARCH_LIST is not set, all archs for visible cards are included for compilation. \n",
            "If this is not desired, please set os.environ['TORCH_CUDA_ARCH_LIST'].\n",
            "  warnings.warn(\n"
          ]
        },
        {
          "output_type": "stream",
          "name": "stdout",
          "text": [
            "[Dec 06, 22:11:27] Loading packbits_cpp extension (set COLBERT_LOAD_TORCH_EXTENSION_VERBOSE=True for more info)...\n"
          ]
        },
        {
          "output_type": "stream",
          "name": "stderr",
          "text": [
            "/usr/local/lib/python3.10/dist-packages/torch/utils/cpp_extension.py:1964: UserWarning: TORCH_CUDA_ARCH_LIST is not set, all archs for visible cards are included for compilation. \n",
            "If this is not desired, please set os.environ['TORCH_CUDA_ARCH_LIST'].\n",
            "  warnings.warn(\n"
          ]
        },
        {
          "output_type": "stream",
          "name": "stdout",
          "text": [
            "[Dec 06, 22:11:27] #> Loading IVF...\n",
            "[Dec 06, 22:11:27] #> Loading doclens...\n"
          ]
        },
        {
          "output_type": "stream",
          "name": "stderr",
          "text": [
            "/content/ColBERT/colbert/search/index_loader.py:33: FutureWarning: You are using `torch.load` with `weights_only=False` (the current default value), which uses the default pickle module implicitly. It is possible to construct malicious pickle data which will execute arbitrary code during unpickling (See https://github.com/pytorch/pytorch/blob/main/SECURITY.md#untrusted-models for more details). In a future release, the default value for `weights_only` will be flipped to `True`. This limits the functions that could be executed during unpickling. Arbitrary objects will no longer be allowed to be loaded via this mode unless they are explicitly allowlisted by the user via `torch.serialization.add_safe_globals`. We recommend you start setting `weights_only=True` for any use case where you don't have full control of the loaded file. Please open an issue on GitHub for any issues related to this experimental feature.\n",
            "  ivf, ivf_lengths = torch.load(os.path.join(self.index_path, \"ivf.pid.pt\"), map_location='cpu')\n",
            "100%|██████████| 1/1 [00:00<00:00, 4733.98it/s]"
          ]
        },
        {
          "output_type": "stream",
          "name": "stdout",
          "text": [
            "[Dec 06, 22:11:27] #> Loading codes and residuals...\n"
          ]
        },
        {
          "output_type": "stream",
          "name": "stderr",
          "text": [
            "\n",
            "  0%|          | 0/1 [00:00<?, ?it/s]/content/ColBERT/colbert/indexing/codecs/residual_embeddings.py:86: FutureWarning: You are using `torch.load` with `weights_only=False` (the current default value), which uses the default pickle module implicitly. It is possible to construct malicious pickle data which will execute arbitrary code during unpickling (See https://github.com/pytorch/pytorch/blob/main/SECURITY.md#untrusted-models for more details). In a future release, the default value for `weights_only` will be flipped to `True`. This limits the functions that could be executed during unpickling. Arbitrary objects will no longer be allowed to be loaded via this mode unless they are explicitly allowlisted by the user via `torch.serialization.add_safe_globals`. We recommend you start setting `weights_only=True` for any use case where you don't have full control of the loaded file. Please open an issue on GitHub for any issues related to this experimental feature.\n",
            "  return torch.load(codes_path, map_location='cpu')\n",
            "/content/ColBERT/colbert/indexing/codecs/residual_embeddings.py:93: FutureWarning: You are using `torch.load` with `weights_only=False` (the current default value), which uses the default pickle module implicitly. It is possible to construct malicious pickle data which will execute arbitrary code during unpickling (See https://github.com/pytorch/pytorch/blob/main/SECURITY.md#untrusted-models for more details). In a future release, the default value for `weights_only` will be flipped to `True`. This limits the functions that could be executed during unpickling. Arbitrary objects will no longer be allowed to be loaded via this mode unless they are explicitly allowlisted by the user via `torch.serialization.add_safe_globals`. We recommend you start setting `weights_only=True` for any use case where you don't have full control of the loaded file. Please open an issue on GitHub for any issues related to this experimental feature.\n",
            "  return torch.load(residuals_path, map_location='cpu')\n",
            "100%|██████████| 1/1 [00:00<00:00, 80.92it/s]\n"
          ]
        }
      ]
    },
    {
      "cell_type": "code",
      "source": [
        "# query = 'was the election rigged'\n",
        "query = articles[15]\n",
        "print(f\"#> {query}\")\n",
        "\n",
        "# Find the top-3 passages for this query\n",
        "results = searcher.search(query, k=3)\n",
        "\n",
        "# Print out the top-k retrieved passages\n",
        "for passage_id, passage_rank, passage_score in zip(*results):\n",
        "  print(passage_id)\n",
        "  print(f\"\\t [{passage_rank}] \\t\\t {passage_score:.1f} \\t\\t {searcher.collection[passage_id]}\")"
      ],
      "metadata": {
        "colab": {
          "base_uri": "https://localhost:8080/"
        },
        "id": "JZ7bJ9MsBipK",
        "outputId": "e51c6898-6d19-434a-c745-778f845e6f98"
      },
      "execution_count": 45,
      "outputs": [
        {
          "output_type": "stream",
          "name": "stdout",
          "text": [
            "#> Lee Jae-myung says he will appeal the court’s decision, which could bar him from running for president in 2027.\r South Korea’s main opposition leader, Lee Jae-myung, has been convicted on charges of violating the country’s election law and handed a one-year suspended prison sentence.\r The Seoul Central District Court on Friday found the leader of the Democratic Party (DP) guilty of making false statements before the 2022 presidential election in violation of the Public Official Election Act.\r \r \r \r \r If upheld, the ruling will strip Lee of his parliamentary seat and bar him from running in the next presidential election in 2027, as the law prohibits him from running for public office for the next five years.\r Lee said after the hearing that he would appeal the court’s decision.\r “I will be appealing. Beginning with the basic facts, it is a conclusion that is difficult to accept,” he told reporters.\r “There are still two more courts left in the real world, and the courts of public opinion and history are eternal,” he said, apparently referring to plans to take the case to the Supreme Court.\r Lee’s supporters and critics occupied separate streets near the court, shouting opposing slogans and holding signs that said “Lee Jae-myung is innocent” and “Arrest Lee Jae-myung”.\r Lee, who narrowly lost to President Yoon Suk-yeol in the 2022 election, faces at least four trials after being indicted on several criminal charges including bribery and corruption. Yoon is also facing a string of controversies, including allegations of influence-peddling alongside his wife.\r In the ruling on Friday, the court found that Lee breached election law by making false statements as a presidential candidate in 2021 that he was not acquainted with a city official who was in charge of a development project.\r  \r \r  \r The official in question was the late Kim Moon-ki, a former executive of Seongnam Development Corporation, which was behind a corruption-ridden development project in Seongnam, according to South Korean news agency Yonhap.\r Lee was also accused of making a false claim during a parliamentary audit in 2021 about a land development project in Seongnam where he served as mayor.\r Lee was the mayor of Seongnam from 2010 to 2018 before becoming governor of Gyeonggi province and a member of parliament.\r Lee, who is widely expected to run in the 2027 election, survived a knife attack in January when he was stabbed in the neck by a man during an event and underwent surgery.\r His party secured a landslide victory in parliamentary elections in April, dealing a blow to Yoon and his governing party.\r Lee, who faces another sentencing hearing over perjury charges later this month, and his party have accused prosecutors of pursuing a politically motivated case against him.\n",
            "15\n",
            "\t [1] \t\t 27.3 \t\t Lee Jae-myung says he will appeal the court’s decision, which could bar him from running for president in 2027.\r South Korea’s main opposition leader, Lee Jae-myung, has been convicted on charges of violating the country’s election law and handed a one-year suspended prison sentence.\r The Seoul Central District Court on Friday found the leader of the Democratic Party (DP) guilty of making false statements before the 2022 presidential election in violation of the Public Official Election Act.\r \r \r \r \r If upheld, the ruling will strip Lee of his parliamentary seat and bar him from running in the next presidential election in 2027, as the law prohibits him from running for public office for the next five years.\r Lee said after the hearing that he would appeal the court’s decision.\r “I will be appealing. Beginning with the basic facts, it is a conclusion that is difficult to accept,” he told reporters.\r “There are still two more courts left in the real world, and the courts of public opinion and history are eternal,” he said, apparently referring to plans to take the case to the Supreme Court.\r Lee’s supporters and critics occupied separate streets near the court, shouting opposing slogans and holding signs that said “Lee Jae-myung is innocent” and “Arrest Lee Jae-myung”.\r Lee, who narrowly lost to President Yoon Suk-yeol in the 2022 election, faces at least four trials after being indicted on several criminal charges including bribery and corruption. Yoon is also facing a string of controversies, including allegations of influence-peddling alongside his wife.\r In the ruling on Friday, the court found that Lee breached election law by making false statements as a presidential candidate in 2021 that he was not acquainted with a city official who was in charge of a development project.\r  \r \r  \r The official in question was the late Kim Moon-ki, a former executive of Seongnam Development Corporation, which was behind a corruption-ridden development project in Seongnam, according to South Korean news agency Yonhap.\r Lee was also accused of making a false claim during a parliamentary audit in 2021 about a land development project in Seongnam where he served as mayor.\r Lee was the mayor of Seongnam from 2010 to 2018 before becoming governor of Gyeonggi province and a member of parliament.\r Lee, who is widely expected to run in the 2027 election, survived a knife attack in January when he was stabbed in the neck by a man during an event and underwent surgery.\r His party secured a landslide victory in parliamentary elections in April, dealing a blow to Yoon and his governing party.\r Lee, who faces another sentencing hearing over perjury charges later this month, and his party have accused prosecutors of pursuing a politically motivated case against him.\n",
            "187\n",
            "\t [2] \t\t 16.1 \t\t The ruling prevents the country’s first Indigenous president from contesting elections scheduled in August 2025.\r Bolivia's ex-president Evo Morales survives 'assassination attempt’\r Bolivia’s constitutional court has barred former President Evo Morales from running again for elected office, preventing him from contesting next year’s presidential election.\r The ruling, made public on Friday, also reaffirms a 2023 court order that a president cannot serve more than two terms, whether consecutive or not, and “without the possibility of extending it to a third term”.\r \r \r \r \r Bolivia’s first Indigenous president, Morales led the country from 2006 to 2019 and was extremely popular until he tried to bypass the constitution and seek a fourth term.\r The leftist won that vote but was forced to resign in 2019 amid deadly protests over alleged election fraud and fled the country.\r He returned after his former ally Luis Arce won the presidency in 2020. But since then, the two men have struggled for control over the governing party, Movement Toward Socialism (MAS).\r The constitutional court’s ruling came in response to a parliamentarian’s request to clarify doubts about its December 2023 decision.\r It also comes about a month into protests by Morales’s supporters, who have blocked roads, taken soldiers hostage and called for Arce to resign.\r  \r \r  \r The protests began on October 14 after prosecutors charged Morales with statutory rape over his alleged relationship with a 15-year-old girl while in office.\r Morales has denied the allegations, saying they were brought by Arce’s government to prevent him from making a political comeback.\r Political tensions have further intensified in recent weeks after Morales accused the government of attempted assassination in late October.\r In response, the Arce administration accused Morales of staging an attempt on his own life, saying the shots fired at his car came after he tried to run a police checkpoint.\r The 65-year-old former president has not yet commented on the latest court decision.\r But his lawyer, Orlando Ceballos, called the decision politically motivated and an attempt to “disqualify” Morales.\r Bolivia will hold its next presidential election in August 2025.\r “Without a doubt this ushers in a new era of politics in Bolivia,” opposition legislator Marcelo Pedrazas told journalists on Friday after the decision was issued.\r “In 2025, we’ll have an election without Evo Morales on the ballot.”\r On Friday, legislators loyal to Morales caused chaos in Congress, shouting and throwing flowers before Arce’s planned yearly address and forcing him to deliver his speech from the presidential palace.\r  \r \r  \n",
            "382\n",
            "\t [3] \t\t 15.8 \t\t Leaders from the three countries met on the sidelines of the 2024 APEC summit to voice opposition to Russia-North Korea treaty.\r The leaders of the United States, South Korea and Japan have held a joint news conference to denounce the growing military cooperation between North Korea and Russia.\r Held on the sidelines of the Asia-Pacific Economic Cooperation (APEC) summit in Lima, Peru, the conference also served as a swan song for outgoing US President Joe Biden, who will be leaving office in 2025.\r \r \r \r \r “We’ve now reached a moment of significant political change,” Biden told reporters on Friday. He touted the bonds between the US, South Korea and Japan as a major part of his legacy.\r “This is likely to be my last trilateral meeting with this important group, but I’m proud to have helped be one of the parts of building this partnership, and I think it’s built to last. That’s my hope and expectation.”\r Biden will be replaced in January by incoming President-elect Donald Trump, a Republican who champions an “America First” foreign policy.\r Those shifting political tailwinds may be critical as Japan, South Korea and the US cooperate in their efforts to contain the nuclear threat they perceive in North Korea, also known as the Democratic People’s Republic of Korea (DPRK).\r Earlier this week, North Korea signed into law a military treaty with another nuclear power, Russia, to bolster the latter’s war in Ukraine.\r The agreement includes a mutual defence pact, and already, up to 10,000 North Korean troops have reportedly been sent to Russia’s border with Ukraine.\r Biden emphasised on Friday that the US alliance with Japan and South Korea would be pivotal to “countering North Korea’s dangerous and destabilizing cooperation with Russia”.\r South Korea’s President Yoon Suk-yeol echoed that sentiment, citing the increasing presence of North Korean troops abroad.\r “As we can see from the recent deployment of DPRK troops to Russia, the challenging security environment within and outside the region once again reminds us of the importance of our trilateral cooperation,” Yoon said.\r He and Biden were also joined by Japanese Prime Minister Ishiba Shigeru, who took office in October.\r Shigeru has been vocal in pushing for a more balanced relationship between his country and the US, including proposing shared management of American military bases in Japan.\r Top leaders from the three countries met for the first time in a standalone format last year, in August 2023.\r On Friday, Yoon expressed a hope that the leaders could continue to meet every year, in order to shore up their relations.\r The leaders’ news conference coincided with a firmly worded joint statement, in which the three countries reiterated their commitment to Ukraine’s “inherent right to self-defence”.\r “Japan, the ROK [South Korea] and the United States strongly condemn the decisions by the leaders of the DPRK and Russia to dangerously expand Russia’s war of aggression against Ukraine,” the statement reads.\r “Deepening military cooperation between the DPRK and Russia, including munitions and ballistic missile transfers, is particularly egregious given Russia’s status as a Permanent Member of the UN Security Council.”\r  \r \r  \r But Trump’s impending return to the White House for a second term has raised questions about the US’s continued commitment to Ukraine’s defence.\r There has been growing resistance to continued military aid to Ukraine in the US Congress, particularly among Republicans.\r Last year, for instance, Republican Senator Josh Hawley called for pulling US funds altogether: “Any funding for Ukraine should be redirected to Israel immediately.”\r Trump himself campaigned on a platform of bringing peace to world conflicts and ending much of the US engagement abroad. Critics speculate that his “America First” policy may be a recipe for greater isolationism.\r There has also been scrutiny over the compromises Trump’s peace plans may entail.\r After the Republican’s victory in the November 5 presidential election, a former adviser to the president-elect indicated to BBC News that Trump would be willing to sacrifice Ukrainian territory in the name of ending the conflict.\r “If [Ukrainian] President [Volodymyr] Zelenskyy comes to the table and says, ‘Well, we can only have peace if we have Crimea,’ he shows to us that he’s not serious,” the former adviser, Bryan Lanza, said. “Crimea is gone.”\r The Trump transition team has since distanced itself from Lanza’s comments, telling the BBC that Lanza “does not speak” for the president-elect.\r US media reports have indicated that Biden, in his final days in office, plans to rush aid to Ukraine, in order to ensure its continued ability to defend itself from Russian invasion.\n"
          ]
        }
      ]
    },
    {
      "cell_type": "code",
      "source": [
        "searcher.collection[passage_id]"
      ],
      "metadata": {
        "colab": {
          "base_uri": "https://localhost:8080/",
          "height": 443
        },
        "id": "QUQ5lylsB9C9",
        "outputId": "b7856a44-594b-4173-d159-6ca9f3a5d4f0"
      },
      "execution_count": 41,
      "outputs": [
        {
          "output_type": "execute_result",
          "data": {
            "text/plain": [
              "'The African nation has been rocked by violence since its October 9 vote, won by the Frelimo party, which has been in power for almost 50 years.\\r Police in Mozambique have fired tear gas in the capital Maputo to disperse people protesting against the government over alleged fraud in last month’s elections.\\r The demonstration on Thursday was the biggest yet against the governing Frelimo party, which was declared the winner of the October 9 election, extending its 49-year rule.\\r \\r \\r \\r \\r Large crowds of mostly young men barricaded streets with burning tyres and waved homemade signs in support of opposition leader Venancio Mondlane, who says the vote was rigged and had called for a week of protests culminating on Thursday.\\r As the protesters marched towards the city centre, police tried to stop them by using tear gas.\\r In an interview with AFP news agency, Mondlane, who claims to be the actual winner of the election, said it was a “crucial moment” for the country.\\r “I feel that there is a revolutionary atmosphere … that shows that we are on the verge of a unique historical and political transition in the country,” said Mondlane, speaking from an undisclosed location.\\r The 50-year-old former radio presenter said he could not disclose his whereabouts other than to say he was not in Africa. He left Mozambique last month following the unrest. He initially said he would be at Thursday’s march, but on Wednesday told AFP he wouldn’t return after all due to safety concerns.\\r  \\r \\r  \\r The Mozambique Bar Association on Thursday warned there were “conditions for a bloodbath” as a heavy security presence was seen deployed across the capital.\\r “The approach of the police has been to try to stop the demonstrations by using tear gas and other weapons, and they have used live gunfire over the last two weeks on several occasions,” said Al Jazeera’s Malcolm Webb, reporting from Maputo, as burning roadblocks and smoke could be seen behind him.\\r “The police have said that protests are allowed and will be allowed to proceed as long as they are peaceful, but it seems even people marching peacefully have been violently dispersed,” Webb added.\\r Amnesty International says at least 20 people have been killed in protests since the election – a figure that the local NGO the Centre for Democracy and Human Rights puts at 24.\\r A police officer was also killed in a protest over the weekend, Defence Minister Cristovao Chume told reporters on Tuesday, warning the army could intervene “to protect the interests of the state”.\\r “There is an intention to change the democratically established power,” said Chume.\\r  \\r \\r  \\r President Filipe Nyusi is expected to step down early next year at the end of his two-term limit and hand over power to Frelimo’s Daniel Chapo, who won the presidential election with 71 percent of the vote, according to the National Electoral Commission.\\r Mondlane, who has lodged a case at the Constitutional Council to request a ballot recount, told AFP he was “open to a government of national unity”.\\r The authorities have restricted internet access across the country, in what Human Rights Watch calls an effort to “suppress peaceful protests and public criticism of the government”.\\r United Nations High Commissioner for Human Rights Volker Turk has also warned against “unnecessary or disproportionate force”, saying police should “ensure that they manage protests in line with Mozambique’s international human rights obligations”.\\r The Southern African Development Community has called for an extraordinary summit between November 16 and November 20 in part to discuss developments in Mozambique.\\r Meanwhile, South Africa closed its border with Mozambique shortly after opening it on Thursday. Authorities also warned South Africans to postpone non-essential visits to the neighbouring country.'"
            ],
            "application/vnd.google.colaboratory.intrinsic+json": {
              "type": "string"
            }
          },
          "metadata": {},
          "execution_count": 41
        }
      ]
    },
    {
      "cell_type": "code",
      "source": [
        "results"
      ],
      "metadata": {
        "colab": {
          "base_uri": "https://localhost:8080/"
        },
        "id": "R08b0mgnCWDX",
        "outputId": "9580d488-6fbd-4648-95c4-7210a5ee858a"
      },
      "execution_count": 35,
      "outputs": [
        {
          "output_type": "execute_result",
          "data": {
            "text/plain": [
              "([414, 29, 60], [1, 2, 3], [23.359375, 22.140625, 21.0625])"
            ]
          },
          "metadata": {},
          "execution_count": 35
        }
      ]
    },
    {
      "cell_type": "code",
      "source": [],
      "metadata": {
        "id": "4gbPC0EDCkJn"
      },
      "execution_count": null,
      "outputs": []
    }
  ]
}